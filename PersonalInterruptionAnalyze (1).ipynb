{
  "nbformat": 4,
  "nbformat_minor": 0,
  "metadata": {
    "colab": {
      "name": "PersonalInterruptionAnalyze.ipynb",
      "provenance": [],
      "collapsed_sections": []
    },
    "kernelspec": {
      "name": "python3",
      "display_name": "Python 3"
    }
  },
  "cells": [
    {
      "cell_type": "code",
      "metadata": {
        "id": "oSI6pTpMdcci"
      },
      "source": [
        "\n",
        "\n",
        "from google.colab import drive\n",
        "drive.mount('/gdrive')\n",
        "%cd /gdrive"
      ],
      "execution_count": null,
      "outputs": []
    },
    {
      "cell_type": "code",
      "metadata": {
        "id": "WoxTjvuVcjnT"
      },
      "source": [
        "\n",
        "# os for file management*\n",
        "\n",
        "import os\n",
        "\n",
        "os.chdir('My Drive')\n",
        "os.chdir('Colab Notebooks')"
      ],
      "execution_count": 3,
      "outputs": []
    },
    {
      "cell_type": "code",
      "metadata": {
        "id": "gdun8UWuxSEy"
      },
      "source": [
        " \n",
        "\n",
        "!pip install tweepy\n"
      ],
      "execution_count": null,
      "outputs": []
    },
    {
      "cell_type": "code",
      "metadata": {
        "id": "aTeDTs0v60e7"
      },
      "source": [
        "# Libs\n",
        "\n",
        "\n",
        "import tweepy\n",
        "from tweepy import OAuthHandler\n",
        "from tweepy import Stream\n",
        "from tweepy.streaming import StreamListener\n",
        "\n",
        "import pandas as pd\n",
        "\n",
        "import json\n",
        "from collections import OrderedDict"
      ],
      "execution_count": 5,
      "outputs": []
    },
    {
      "cell_type": "code",
      "metadata": {
        "id": "jEpm4-YG40sZ"
      },
      "source": [
        "# Twitter APIs\n",
        "\n",
        "\n",
        "\n",
        "consumer_key = 'd8RxF1zqe1vqZGPTFNOX865B2'\n",
        "consumer_secret = 'B8vjEkOLyirvoBf4zp2cBPAKoSvjGxRbzK0RQgB65OGpmkyeZL'\n",
        "access_token = '895405449620672513-NAhckCrY8XzAtjtuyUv5CGjYN9pG29r'\n",
        "access_secret = 'Hf6HSPpP3Mbh6O5xLqwcTMrawSxgQ5lxf9lngisrKsdze'\n",
        " \n",
        "auth = OAuthHandler(consumer_key, consumer_secret)\n",
        "auth.set_access_token(access_token, access_secret)\n",
        "\n",
        "api = tweepy.API(auth, wait_on_rate_limit=True)"
      ],
      "execution_count": 6,
      "outputs": []
    },
    {
      "cell_type": "code",
      "metadata": {
        "id": "BUwV9CkUFFVF"
      },
      "source": [
        "user = api.me()\n",
        "\n",
        "print(user)"
      ],
      "execution_count": null,
      "outputs": []
    },
    {
      "cell_type": "code",
      "metadata": {
        "id": "4frU9GuFvP6k"
      },
      "source": [
        "print('Name: ' + user.name)\n",
        "print('Description: ' + user.description)\n",
        "print('Friends: ' + str(user.friends_count))\n",
        "print('Nick: @' + str(user.screen_name) + \"  <---- Beni Ekleyebilirsiniz\")"
      ],
      "execution_count": null,
      "outputs": []
    },
    {
      "cell_type": "code",
      "metadata": {
        "id": "k9AjuZlPCEG5"
      },
      "source": [
        "api.home_timeline()"
      ],
      "execution_count": null,
      "outputs": []
    },
    {
      "cell_type": "code",
      "metadata": {
        "id": "p4BJ_mYsoRjR",
        "colab": {
          "base_uri": "https://localhost:8080/"
        },
        "outputId": "91946a9c-ae96-4869-8f67-42b1834d8922"
      },
      "source": [
        "OrderedDict(api.home_timeline()[1]._json)"
      ],
      "execution_count": 10,
      "outputs": [
        {
          "output_type": "execute_result",
          "data": {
            "text/plain": [
              "OrderedDict([('created_at', 'Sat Mar 13 20:08:43 +0000 2021'),\n",
              "             ('id', 1370829196411478016),\n",
              "             ('id_str', '1370829196411478016'),\n",
              "             ('text', 'RT @surprisemot: https://t.co/YJO7A0uw7T'),\n",
              "             ('truncated', False),\n",
              "             ('entities',\n",
              "              {'hashtags': [],\n",
              "               'media': [{'display_url': 'pic.twitter.com/YJO7A0uw7T',\n",
              "                 'expanded_url': 'https://twitter.com/surprisemot/status/1370825014593880069/photo/1',\n",
              "                 'id': 1370825012081520647,\n",
              "                 'id_str': '1370825012081520647',\n",
              "                 'indices': [17, 40],\n",
              "                 'media_url': 'http://pbs.twimg.com/media/EwYmFeZW8Ac5Fep.jpg',\n",
              "                 'media_url_https': 'https://pbs.twimg.com/media/EwYmFeZW8Ac5Fep.jpg',\n",
              "                 'sizes': {'large': {'h': 713, 'resize': 'fit', 'w': 720},\n",
              "                  'medium': {'h': 713, 'resize': 'fit', 'w': 720},\n",
              "                  'small': {'h': 673, 'resize': 'fit', 'w': 680},\n",
              "                  'thumb': {'h': 150, 'resize': 'crop', 'w': 150}},\n",
              "                 'source_status_id': 1370825014593880069,\n",
              "                 'source_status_id_str': '1370825014593880069',\n",
              "                 'source_user_id': 1208434575388676097,\n",
              "                 'source_user_id_str': '1208434575388676097',\n",
              "                 'type': 'photo',\n",
              "                 'url': 'https://t.co/YJO7A0uw7T'}],\n",
              "               'symbols': [],\n",
              "               'urls': [],\n",
              "               'user_mentions': [{'id': 1208434575388676097,\n",
              "                 'id_str': '1208434575388676097',\n",
              "                 'indices': [3, 15],\n",
              "                 'name': 'OPEN FOR A SURPRISE',\n",
              "                 'screen_name': 'surprisemot'}]}),\n",
              "             ('extended_entities',\n",
              "              {'media': [{'display_url': 'pic.twitter.com/YJO7A0uw7T',\n",
              "                 'expanded_url': 'https://twitter.com/surprisemot/status/1370825014593880069/photo/1',\n",
              "                 'id': 1370825012081520647,\n",
              "                 'id_str': '1370825012081520647',\n",
              "                 'indices': [17, 40],\n",
              "                 'media_url': 'http://pbs.twimg.com/media/EwYmFeZW8Ac5Fep.jpg',\n",
              "                 'media_url_https': 'https://pbs.twimg.com/media/EwYmFeZW8Ac5Fep.jpg',\n",
              "                 'sizes': {'large': {'h': 713, 'resize': 'fit', 'w': 720},\n",
              "                  'medium': {'h': 713, 'resize': 'fit', 'w': 720},\n",
              "                  'small': {'h': 673, 'resize': 'fit', 'w': 680},\n",
              "                  'thumb': {'h': 150, 'resize': 'crop', 'w': 150}},\n",
              "                 'source_status_id': 1370825014593880069,\n",
              "                 'source_status_id_str': '1370825014593880069',\n",
              "                 'source_user_id': 1208434575388676097,\n",
              "                 'source_user_id_str': '1208434575388676097',\n",
              "                 'type': 'photo',\n",
              "                 'url': 'https://t.co/YJO7A0uw7T'}]}),\n",
              "             ('source',\n",
              "              '<a href=\"http://twitter.com/download/iphone\" rel=\"nofollow\">Twitter for iPhone</a>'),\n",
              "             ('in_reply_to_status_id', None),\n",
              "             ('in_reply_to_status_id_str', None),\n",
              "             ('in_reply_to_user_id', None),\n",
              "             ('in_reply_to_user_id_str', None),\n",
              "             ('in_reply_to_screen_name', None),\n",
              "             ('user',\n",
              "              {'contributors_enabled': False,\n",
              "               'created_at': 'Mon Aug 12 18:50:29 +0000 2019',\n",
              "               'default_profile': True,\n",
              "               'default_profile_image': False,\n",
              "               'description': 'DM for Credit / Removal. We do not own the content that is posted, only translate the videos. Paylaşımlar ve alıntılar onayladığım anlamına gelmez',\n",
              "               'entities': {'description': {'urls': []}},\n",
              "               'favourites_count': 9693,\n",
              "               'follow_request_sent': False,\n",
              "               'followers_count': 147872,\n",
              "               'following': True,\n",
              "               'friends_count': 217,\n",
              "               'geo_enabled': False,\n",
              "               'has_extended_profile': False,\n",
              "               'id': 1160986931343310851,\n",
              "               'id_str': '1160986931343310851',\n",
              "               'is_translation_enabled': False,\n",
              "               'is_translator': False,\n",
              "               'lang': None,\n",
              "               'listed_count': 251,\n",
              "               'location': '',\n",
              "               'name': 'Her Gün Bir Doz',\n",
              "               'notifications': False,\n",
              "               'profile_background_color': 'F5F8FA',\n",
              "               'profile_background_image_url': None,\n",
              "               'profile_background_image_url_https': None,\n",
              "               'profile_background_tile': False,\n",
              "               'profile_banner_url': 'https://pbs.twimg.com/profile_banners/1160986931343310851/1568161987',\n",
              "               'profile_image_url': 'http://pbs.twimg.com/profile_images/1171619133735260160/8nFwkApl_normal.jpg',\n",
              "               'profile_image_url_https': 'https://pbs.twimg.com/profile_images/1171619133735260160/8nFwkApl_normal.jpg',\n",
              "               'profile_link_color': '1DA1F2',\n",
              "               'profile_sidebar_border_color': 'C0DEED',\n",
              "               'profile_sidebar_fill_color': 'DDEEF6',\n",
              "               'profile_text_color': '333333',\n",
              "               'profile_use_background_image': True,\n",
              "               'protected': False,\n",
              "               'screen_name': 'HerGunBirDozz',\n",
              "               'statuses_count': 3460,\n",
              "               'time_zone': None,\n",
              "               'translator_type': 'none',\n",
              "               'url': None,\n",
              "               'utc_offset': None,\n",
              "               'verified': False}),\n",
              "             ('geo', None),\n",
              "             ('coordinates', None),\n",
              "             ('place', None),\n",
              "             ('contributors', None),\n",
              "             ('retweeted_status',\n",
              "              {'contributors': None,\n",
              "               'coordinates': None,\n",
              "               'created_at': 'Sat Mar 13 19:52:06 +0000 2021',\n",
              "               'entities': {'hashtags': [],\n",
              "                'media': [{'display_url': 'pic.twitter.com/YJO7A0uw7T',\n",
              "                  'expanded_url': 'https://twitter.com/surprisemot/status/1370825014593880069/photo/1',\n",
              "                  'id': 1370825012081520647,\n",
              "                  'id_str': '1370825012081520647',\n",
              "                  'indices': [0, 23],\n",
              "                  'media_url': 'http://pbs.twimg.com/media/EwYmFeZW8Ac5Fep.jpg',\n",
              "                  'media_url_https': 'https://pbs.twimg.com/media/EwYmFeZW8Ac5Fep.jpg',\n",
              "                  'sizes': {'large': {'h': 713, 'resize': 'fit', 'w': 720},\n",
              "                   'medium': {'h': 713, 'resize': 'fit', 'w': 720},\n",
              "                   'small': {'h': 673, 'resize': 'fit', 'w': 680},\n",
              "                   'thumb': {'h': 150, 'resize': 'crop', 'w': 150}},\n",
              "                  'type': 'photo',\n",
              "                  'url': 'https://t.co/YJO7A0uw7T'}],\n",
              "                'symbols': [],\n",
              "                'urls': [],\n",
              "                'user_mentions': []},\n",
              "               'extended_entities': {'media': [{'display_url': 'pic.twitter.com/YJO7A0uw7T',\n",
              "                  'expanded_url': 'https://twitter.com/surprisemot/status/1370825014593880069/photo/1',\n",
              "                  'id': 1370825012081520647,\n",
              "                  'id_str': '1370825012081520647',\n",
              "                  'indices': [0, 23],\n",
              "                  'media_url': 'http://pbs.twimg.com/media/EwYmFeZW8Ac5Fep.jpg',\n",
              "                  'media_url_https': 'https://pbs.twimg.com/media/EwYmFeZW8Ac5Fep.jpg',\n",
              "                  'sizes': {'large': {'h': 713, 'resize': 'fit', 'w': 720},\n",
              "                   'medium': {'h': 713, 'resize': 'fit', 'w': 720},\n",
              "                   'small': {'h': 673, 'resize': 'fit', 'w': 680},\n",
              "                   'thumb': {'h': 150, 'resize': 'crop', 'w': 150}},\n",
              "                  'type': 'photo',\n",
              "                  'url': 'https://t.co/YJO7A0uw7T'}]},\n",
              "               'favorite_count': 261,\n",
              "               'favorited': False,\n",
              "               'geo': None,\n",
              "               'id': 1370825014593880069,\n",
              "               'id_str': '1370825014593880069',\n",
              "               'in_reply_to_screen_name': None,\n",
              "               'in_reply_to_status_id': None,\n",
              "               'in_reply_to_status_id_str': None,\n",
              "               'in_reply_to_user_id': None,\n",
              "               'in_reply_to_user_id_str': None,\n",
              "               'is_quote_status': False,\n",
              "               'lang': 'und',\n",
              "               'place': None,\n",
              "               'possibly_sensitive': False,\n",
              "               'possibly_sensitive_appealable': False,\n",
              "               'retweet_count': 11,\n",
              "               'retweeted': False,\n",
              "               'source': '<a href=\"http://twitter.com/download/android\" rel=\"nofollow\">Twitter for Android</a>',\n",
              "               'text': 'https://t.co/YJO7A0uw7T',\n",
              "               'truncated': False,\n",
              "               'user': {'contributors_enabled': False,\n",
              "                'created_at': 'Sat Dec 21 17:10:43 +0000 2019',\n",
              "                'default_profile': True,\n",
              "                'default_profile_image': False,\n",
              "                'description': 'Surprise',\n",
              "                'entities': {'description': {'urls': []}},\n",
              "                'favourites_count': 1,\n",
              "                'follow_request_sent': False,\n",
              "                'followers_count': 129764,\n",
              "                'following': False,\n",
              "                'friends_count': 0,\n",
              "                'geo_enabled': False,\n",
              "                'has_extended_profile': True,\n",
              "                'id': 1208434575388676097,\n",
              "                'id_str': '1208434575388676097',\n",
              "                'is_translation_enabled': False,\n",
              "                'is_translator': False,\n",
              "                'lang': None,\n",
              "                'listed_count': 118,\n",
              "                'location': '',\n",
              "                'name': 'OPEN FOR A SURPRISE',\n",
              "                'notifications': False,\n",
              "                'profile_background_color': 'F5F8FA',\n",
              "                'profile_background_image_url': None,\n",
              "                'profile_background_image_url_https': None,\n",
              "                'profile_background_tile': False,\n",
              "                'profile_image_url': 'http://pbs.twimg.com/profile_images/1251160978298777603/jl7MF_hx_normal.jpg',\n",
              "                'profile_image_url_https': 'https://pbs.twimg.com/profile_images/1251160978298777603/jl7MF_hx_normal.jpg',\n",
              "                'profile_link_color': '1DA1F2',\n",
              "                'profile_sidebar_border_color': 'C0DEED',\n",
              "                'profile_sidebar_fill_color': 'DDEEF6',\n",
              "                'profile_text_color': '333333',\n",
              "                'profile_use_background_image': True,\n",
              "                'protected': False,\n",
              "                'screen_name': 'surprisemot',\n",
              "                'statuses_count': 3138,\n",
              "                'time_zone': None,\n",
              "                'translator_type': 'none',\n",
              "                'url': None,\n",
              "                'utc_offset': None,\n",
              "                'verified': False}}),\n",
              "             ('is_quote_status', False),\n",
              "             ('retweet_count', 11),\n",
              "             ('favorite_count', 0),\n",
              "             ('favorited', False),\n",
              "             ('retweeted', False),\n",
              "             ('possibly_sensitive', False),\n",
              "             ('possibly_sensitive_appealable', False),\n",
              "             ('lang', 'und')])"
            ]
          },
          "metadata": {
            "tags": []
          },
          "execution_count": 10
        }
      ]
    },
    {
      "cell_type": "code",
      "metadata": {
        "id": "QwMOviy36x2z",
        "colab": {
          "base_uri": "https://localhost:8080/"
        },
        "outputId": "e56fc868-c6bc-4b03-ed28-d0dd11b6c41b"
      },
      "source": [
        "for status in api.home_timeline():\n",
        "   print(status.text)"
      ],
      "execution_count": 11,
      "outputs": [
        {
          "output_type": "stream",
          "text": [
            "Bu ne lan hahahjahaja https://t.co/O6Epsii2xm\n",
            "Summer in Ibiza https://t.co/vrjBYjf3jn\n",
            "RT @surprisemot: https://t.co/YJO7A0uw7T\n",
            "\"Bild\"-Chefredakteur Reichelt befristet freigestellt https://t.co/pbOlu4tTMe #Bild\n",
            "🗣 Tümer Metin: \"Sarı kart doğru.”\n",
            "\n",
            "🗣 Ayhan Akman: \"Sarı kart doğru.”\n",
            "\n",
            "(TRT Spor)\n",
            "RT @gallerwinter: https://t.co/B8eTUUQhaj\n",
            "Meteoroloji'den yurt geneli için yağış uyarısı\n",
            "https://t.co/if8LHnUyR6 https://t.co/UTIzSDByNU\n",
            "🐺Kurtların doğduklarında mavi olan gözleri, 8.aydan sonra sarıya döner. Burunları, yaklaşık 200 milyon koku alma hü… https://t.co/3HxJ2AM3C8\n",
            "RT @CTY_ZHL: @_tusman @saccularis @qujunil @deryaTR_\n",
            "@drerkurt @doktorkafali @emregozemre\n",
            "@doctorxy2 @drgunersonmez @drnecmettinunal @genpe…\n",
            "Cinayetten 13 gün sonra vicdan azabından dolayı polise gidip oğlunu boğarak öldürdüğünü itiraf eden Hüseyin Ersezgi… https://t.co/kqtdzuFjRB\n",
            "Dopo il nuovo rinvio di #JuveNapoli, la #Roma chiede un chiarimento alla Lega Serie A\n",
            "\n",
            "https://t.co/Ec7QxWI7Io\n",
            "News zur Pandemie: Sachsen erweitert Einreisemöglichkeit für Berufspendler https://t.co/4e300LLEz8\n",
            "RT @zatenyanmisim: https://t.co/t2yKijKDcR\n",
            "Dövme Yaptırmak, Bağışıklık Sistemini Güçlendiriyor Olabilir mi? https://t.co/DNFrwHZCHl\n",
            "Kendini fiziğin kollarına bırakan strafor kutunun 2 kez araçtan düşüp yeniden yerine yerleşiyor. Hareket halindeki… https://t.co/a6vHsSXVUB\n",
            "RT @bonaparteniz: EVET KANKİLERİM UZUN BİR SÜRENİN ARDINDAN SİTEYE GERİ DÖNDÜM ARTIK BU HESAPTAYIM BENİ ESKİ TAKİPÇİLERİMLE KAVUŞTURSANIZ C…\n",
            "https://t.co/mGCBobAYOL\n",
            "RT @vevoDuman: bu şehirde yaşanmaz be canım\n",
            "Reha Erdem yine muazzam https://t.co/OgtQ53Cr5j\n",
            "RT @neonturkiye: https://t.co/ItSsqgBBRn\n"
          ],
          "name": "stdout"
        }
      ]
    },
    {
      "cell_type": "code",
      "metadata": {
        "id": "0PzfKnOg0CCr"
      },
      "source": [
        "tweets = []\n",
        "\n",
        "for status in api.home_timeline():\n",
        "   tweets.append(status.text)\n",
        "  "
      ],
      "execution_count": 12,
      "outputs": []
    },
    {
      "cell_type": "code",
      "metadata": {
        "id": "Es0rqxHJ1XL6",
        "colab": {
          "base_uri": "https://localhost:8080/"
        },
        "outputId": "3784356c-35d5-493c-e9e0-6de14ae5d30b"
      },
      "source": [
        "len(tweets)"
      ],
      "execution_count": 13,
      "outputs": [
        {
          "output_type": "execute_result",
          "data": {
            "text/plain": [
              "20"
            ]
          },
          "metadata": {
            "tags": []
          },
          "execution_count": 13
        }
      ]
    },
    {
      "cell_type": "code",
      "metadata": {
        "id": "qTrE6de-44wY",
        "colab": {
          "base_uri": "https://localhost:8080/"
        },
        "outputId": "22157fa2-c281-4be5-8594-d10c0d0b048f"
      },
      "source": [
        "tweets = []\n",
        "\n",
        "for status in tweepy.Cursor(api.home_timeline).items(50):\n",
        "    tweets.append(status.text)\n",
        "    \n",
        "len(tweets)"
      ],
      "execution_count": 14,
      "outputs": [
        {
          "output_type": "execute_result",
          "data": {
            "text/plain": [
              "50"
            ]
          },
          "metadata": {
            "tags": []
          },
          "execution_count": 14
        }
      ]
    },
    {
      "cell_type": "code",
      "metadata": {
        "id": "q675IlQp6jj4",
        "colab": {
          "base_uri": "https://localhost:8080/"
        },
        "outputId": "2d4bfbdb-373e-4cf3-b9ed-712499c2fec0"
      },
      "source": [
        "for status in tweepy.Cursor(api.home_timeline).items(10):\n",
        "    print(status.text)"
      ],
      "execution_count": 15,
      "outputs": [
        {
          "output_type": "stream",
          "text": [
            "Şunlara bakın cabuk asırı pozitifff djdjdjddj https://t.co/vGpX1YJWkG\n",
            "Bu ne lan hahahjahaja https://t.co/O6Epsii2xm\n",
            "Summer in Ibiza https://t.co/vrjBYjf3jn\n",
            "RT @surprisemot: https://t.co/YJO7A0uw7T\n",
            "\"Bild\"-Chefredakteur Reichelt befristet freigestellt https://t.co/pbOlu4tTMe #Bild\n",
            "🗣 Tümer Metin: \"Sarı kart doğru.”\n",
            "\n",
            "🗣 Ayhan Akman: \"Sarı kart doğru.”\n",
            "\n",
            "(TRT Spor)\n",
            "RT @gallerwinter: https://t.co/B8eTUUQhaj\n",
            "Meteoroloji'den yurt geneli için yağış uyarısı\n",
            "https://t.co/if8LHnUyR6 https://t.co/UTIzSDByNU\n",
            "🐺Kurtların doğduklarında mavi olan gözleri, 8.aydan sonra sarıya döner. Burunları, yaklaşık 200 milyon koku alma hü… https://t.co/3HxJ2AM3C8\n",
            "RT @CTY_ZHL: @_tusman @saccularis @qujunil @deryaTR_\n",
            "@drerkurt @doktorkafali @emregozemre\n",
            "@doctorxy2 @drgunersonmez @drnecmettinunal @genpe…\n"
          ],
          "name": "stdout"
        }
      ]
    },
    {
      "cell_type": "code",
      "metadata": {
        "id": "aOgWfoVtGuUI",
        "colab": {
          "base_uri": "https://localhost:8080/"
        },
        "outputId": "f406f76c-5d98-484a-82f2-154d1bb2e684"
      },
      "source": [
        "for status in tweepy.Cursor(api.search, q=('DEDAŞ')).items(10):\n",
        "  print(status.text)"
      ],
      "execution_count": 16,
      "outputs": [
        {
          "output_type": "stream",
          "text": [
            "@BBahadirErdem Kaçak elektrik kullanmaya alışmışlar, kullandığının bedeli gelmiştir yoksa DEDAŞ kafadan sallama ele… https://t.co/trrouc8Ftq\n",
            "RT @BBahadirErdem: Mardin Kızıltepe'de bir çiftçi 130 dönüm arazisi için 320.000 TL DEDAŞa elektrik parası borcu olduğunu, ödemesinin mümkü…\n",
            "RT @BBahadirErdem: Mardin Kızıltepe'de bir çiftçi 130 dönüm arazisi için 320.000 TL DEDAŞa elektrik parası borcu olduğunu, ödemesinin mümkü…\n",
            "RT @meral_aksener: Şanlıurfa'da, Mardin'de hangi vatandaşımızla konuştuysam; \n",
            "\n",
            "DEDAŞ yüzünden yaşadıkları mağduriyetleri dinledim...\n",
            "\n",
            "Bölge…\n",
            "RT @meral_aksener: Şanlıurfa'da, Mardin'de hangi vatandaşımızla konuştuysam; \n",
            "\n",
            "DEDAŞ yüzünden yaşadıkları mağduriyetleri dinledim...\n",
            "\n",
            "Bölge…\n",
            "RT @BBahadirErdem: Mardin Kızıltepe'de bir çiftçi 130 dönüm arazisi için 320.000 TL DEDAŞa elektrik parası borcu olduğunu, ödemesinin mümkü…\n",
            "RT @BBahadirErdem: Mardin Kızıltepe'de bir çiftçi 130 dönüm arazisi için 320.000 TL DEDAŞa elektrik parası borcu olduğunu, ödemesinin mümkü…\n",
            "RT @BBahadirErdem: Mardin Kızıltepe'de bir çiftçi 130 dönüm arazisi için 320.000 TL DEDAŞa elektrik parası borcu olduğunu, ödemesinin mümkü…\n",
            "RT @BBahadirErdem: Mardin Kızıltepe'de bir çiftçi 130 dönüm arazisi için 320.000 TL DEDAŞa elektrik parası borcu olduğunu, ödemesinin mümkü…\n",
            "Mardin Kızıltepe'de bir çiftçi 130 dönüm arazisi için 320.000 TL DEDAŞa elektrik parası borcu olduğunu, ödemesinin… https://t.co/NsgIfNu8GQ\n"
          ],
          "name": "stdout"
        }
      ]
    },
    {
      "cell_type": "code",
      "metadata": {
        "id": "BY-JhZkesG4C",
        "colab": {
          "base_uri": "https://localhost:8080/"
        },
        "outputId": "88003941-6c4b-4890-d1d9-2261c8e263d6"
      },
      "source": [
        "# retweet'leri ve yabancı tweet'leri kaldıralım\r\n",
        "for status in tweepy.Cursor(api.search, q=('DEDAŞ-filter:retweets'), lang=\"tr\").items(10):\r\n",
        "  print(status.text)"
      ],
      "execution_count": 17,
      "outputs": [
        {
          "output_type": "stream",
          "text": [
            "@BBahadirErdem Kaçak elektrik kullanmaya alışmışlar, kullandığının bedeli gelmiştir yoksa DEDAŞ kafadan sallama ele… https://t.co/trrouc8Ftq\n",
            "Mardin Kızıltepe'de bir çiftçi 130 dönüm arazisi için 320.000 TL DEDAŞa elektrik parası borcu olduğunu, ödemesinin… https://t.co/NsgIfNu8GQ\n",
            "@av_nihat @Akparti @RTErdogan en çok akpartiye zarar verem dedaş terör örgütüdür\n",
            "@abdkirikci @imamfidanoglu sayın başkanım siverek viranşehirin dedaş sorunu ne olacak\n",
            "Evren Sanayi Sitesinde iki gündür DEDAŞ'ın uyguladığı  elektrik kesintisi yüzünden esnaf mağdur.\n",
            "Ne yazık ki DEDAŞ,… https://t.co/vMbxk5Ff3Y\n",
            "@kenankaratas_ Niye Dedaş toprakla ağlari kaçak kulansinmi yanı milyon  dolarla la\n",
            "@sevdam_urfa Şanlıurfa da TEDAŞ diye bir kurum yok. Orada Dicle Elektrik Dağıtım A.Ş  (DEDAŞ) var. Özelleşeli 10 yi… https://t.co/a6n3JqBejV\n",
            "@kenankaratas_ @B_O_6363_KK Dedaş sorunu çözemeyecek siyasi parti Şanlıurfa ya gelmesin. Halkı en çok mağdur eden b… https://t.co/1LAccto8xc\n",
            "@kenankaratas_ Güneydoğu'nun kanayan yarası Dedaş\n",
            "@kenankaratas_ Dedaş haneye az elektirik gelmiş diye 10 bin ceza yazmış bu soyguna ben bir ad koyamıyorum\n"
          ],
          "name": "stdout"
        }
      ]
    },
    {
      "cell_type": "code",
      "metadata": {
        "id": "jp-OZ--dGucg",
        "colab": {
          "base_uri": "https://localhost:8080/"
        },
        "outputId": "6b7184dc-b3db-41d2-d1b4-7492ee1c57a6"
      },
      "source": [
        "for status in tweepy.Cursor(api.search, q=[ 'elektrik' ,  \"DEDAŞ \"]).items(10):\n",
        "  print(status.text)"
      ],
      "execution_count": 18,
      "outputs": [
        {
          "output_type": "stream",
          "text": [
            "@BBahadirErdem Kaçak elektrik kullanmaya alışmışlar, kullandığının bedeli gelmiştir yoksa DEDAŞ kafadan sallama ele… https://t.co/trrouc8Ftq\n",
            "RT @BBahadirErdem: Mardin Kızıltepe'de bir çiftçi 130 dönüm arazisi için 320.000 TL DEDAŞa elektrik parası borcu olduğunu, ödemesinin mümkü…\n",
            "RT @BBahadirErdem: Mardin Kızıltepe'de bir çiftçi 130 dönüm arazisi için 320.000 TL DEDAŞa elektrik parası borcu olduğunu, ödemesinin mümkü…\n",
            "RT @BBahadirErdem: Mardin Kızıltepe'de bir çiftçi 130 dönüm arazisi için 320.000 TL DEDAŞa elektrik parası borcu olduğunu, ödemesinin mümkü…\n",
            "RT @BBahadirErdem: Mardin Kızıltepe'de bir çiftçi 130 dönüm arazisi için 320.000 TL DEDAŞa elektrik parası borcu olduğunu, ödemesinin mümkü…\n",
            "RT @BBahadirErdem: Mardin Kızıltepe'de bir çiftçi 130 dönüm arazisi için 320.000 TL DEDAŞa elektrik parası borcu olduğunu, ödemesinin mümkü…\n",
            "RT @BBahadirErdem: Mardin Kızıltepe'de bir çiftçi 130 dönüm arazisi için 320.000 TL DEDAŞa elektrik parası borcu olduğunu, ödemesinin mümkü…\n",
            "Mardin Kızıltepe'de bir çiftçi 130 dönüm arazisi için 320.000 TL DEDAŞa elektrik parası borcu olduğunu, ödemesinin… https://t.co/NsgIfNu8GQ\n",
            "Evren Sanayi Sitesinde iki gündür DEDAŞ'ın uyguladığı  elektrik kesintisi yüzünden esnaf mağdur.\n",
            "Ne yazık ki DEDAŞ,… https://t.co/vMbxk5Ff3Y\n",
            "RT @ResitSonmez: AKP li vekillerin herşey için yanımıza gelin elektrik için gelmeyin dediği DEDAŞ şirketi hakkında.\n",
            "\n",
            "Güneydoğu'daki Çiftçi…\n"
          ],
          "name": "stdout"
        }
      ]
    },
    {
      "cell_type": "code",
      "metadata": {
        "id": "oFeBg6AunsGm",
        "colab": {
          "base_uri": "https://localhost:8080/"
        },
        "outputId": "aa9b2f75-63b7-4baa-e5f0-4fae09eba3f2"
      },
      "source": [
        "for status in tweepy.Cursor(api.search, q=[ \"elektrik kesik -filter:retweets\"], tweet_mode = \"extended\").items(1000):\n",
        "  print(status.full_text)"
      ],
      "execution_count": 19,
      "outputs": [
        {
          "output_type": "stream",
          "text": [
            "@BY @BY yalan sizde sahtekarlık sizde biz vatandaş açız evimizin kirasını ödeyemedik elektrik borcum nedeni 4 gündür kesik sayın vekilim buna ne dicem\n",
            "12 saattir elektrik kesik ya böyle aptalca bişey olabilir mi\n",
            "ablamla kucuk caplı bı tartısma yasadık evden cıkarken wıfının fısını çekmıs ıkı saattırlı mal mal oturuyorum elektrık kesık sandıgım ıcın.\n",
            "Sabah 9 30 dan beri elektrik kesik\n",
            "Her hangi bir ariza yokmuş. Kayıtta olusturdum ama halen karanliktayiz ve biz bu durumu çok sık yaşıyoruz Adana Çukurova Dörtler mahallesinde.Sorsaniz dünyanın en gelişmiş ülkesiyizdir #toroslarelektrik\n",
            "Adana Saricam Sulucada Yaklaşık 12 saattir elektrik kesik ne zaman gelecek 186 yi arıyoruz ariza sanki yenilmiş gibi davranıyorlar @enerjisadestek @toroslardestek @showanahaber @TCAdanaValiligi @TCEnerji\n",
            "Sabah 6:30 dan beri elektrik kesik şaka gibi zamanlar yaşatıyorsunuz 😂 @istanbulbld @ayedasdestek @kartalbld\n",
            "RT @Kadir13374633: @ZehraZumrutS @RTErdogan Ben göremedim doğalgaz kesik elektrik kesik su borcu var 1420 lira yetmiyor yani\n",
            "@ZehraZumrutS @RTErdogan Ben göremedim doğalgaz kesik elektrik kesik su borcu var 1420 lira yetmiyor yani\n",
            "RT @ibrahimgvnmz: @alparslankuytul adli tıp da elektrik su doğalgaz kesik telefonlar da çekmiyordu.:)\n",
            "RT @cumalirapsodi: Bu ay bizi mağdur ettiğiniz için faturamı siz ödeyin eyyy @enerjisa eyyy @toroslardestek ...iki gün önce 10 saat kestini…\n",
            "RT @ibrahimgvnmz: @alparslankuytul adli tıp da elektrik su doğalgaz kesik telefonlar da çekmiyordu.:)\n",
            "Geceden ne zaman bu telefonu şarj etmezsem gündüz mutlaka bir şekilde şarj edemiyorum mesela bugün elektrik kesik sabahtan beri\n",
            "RT @cumalirapsodi: Bu ay bizi mağdur ettiğiniz için faturamı siz ödeyin eyyy @enerjisa eyyy @toroslardestek ...iki gün önce 10 saat kestini…\n",
            "RT @cumalirapsodi: Bu ay bizi mağdur ettiğiniz için faturamı siz ödeyin eyyy @enerjisa eyyy @toroslardestek ...iki gün önce 10 saat kestini…\n",
            "Bu ay bizi mağdur ettiğiniz için faturamı siz ödeyin eyyy @enerjisa eyyy @toroslardestek ...iki gün önce 10 saat kestiniz şimdide 3 saattir elektrik kesik yapamıyorsanız defolun.\n",
            "RT @cumalirapsodi: 1980 lerde 1990 larda bu kadar çok elektrik kesilmiyordu.3 saattir elektrik kesik yapamıyorsanız defolun @enerjisa @toro…\n",
            "1980 lerde 1990 larda bu kadar çok elektrik kesilmiyordu.3 saattir elektrik kesik yapamıyorsanız defolun @enerjisa @toroslardestek\n",
            "@enerjisa @toroslardestek Allah belanızı versin yine elektrik kesik.\n",
            "RT @ibrahimgvnmz: @alparslankuytul adli tıp da elektrik su doğalgaz kesik telefonlar da çekmiyordu.:)\n",
            "Elektrik internet gene kesik aq köyünde ya. Cidden en nefret ettiğim olay bu oluyor burda. Yarın tez toplantısı olacak o zaman da olmazsa gel de kafayı sıyırma\n",
            "Ooof iki yağmur yağdı bir fırtına çıktı diye saatlerdir elektrik kesik, 2021'deyiz ya şaka mı bu\n",
            "RT @ibrahimgvnmz: @alparslankuytul adli tıp da elektrik su doğalgaz kesik telefonlar da çekmiyordu.:)\n",
            "RT @ibrahimgvnmz: @alparslankuytul adli tıp da elektrik su doğalgaz kesik telefonlar da çekmiyordu.:)\n",
            "RT @ibrahimgvnmz: @alparslankuytul adli tıp da elektrik su doğalgaz kesik telefonlar da çekmiyordu.:)\n",
            "RT @ibrahimgvnmz: @alparslankuytul adli tıp da elektrik su doğalgaz kesik telefonlar da çekmiyordu.:)\n",
            "@alparslankuytul adli tıp da elektrik su doğalgaz kesik telefonlar da çekmiyordu.:)\n",
            "@BEDASDestek Yok ama bu böyle olmayacak yedi saattir bir elektrik kesik olur mu ya ne biçim çalışıyorsunuz siz\n",
            "Sabahtan beri elektrik kesik sözde 11 de gelecekmiş haydi bakalım hiç gelecegini sanmıyorum ama 🤔\n",
            "@toroslardestek İskenderun Denizciler 9 saattir elektrik kesik dün de kesikti bugün de her gün böyle mi olacak\n",
            "@tcbestepe @RTErdogan @tcbestepe buraya boşuna derlerinizi yazmayın takan yok ben evimin kirasını ödeyemedim elektrik borcum nedeni elektrik kesik iş arıyorum bulamıyorum karanlıkta kaldım evim buz gibi ama yine yardımcı olan yok izmir valisinden yardım istedim boş çıktı ben açım aç\n",
            "Yine İskenderun,yine Denizciler ve yine bir elektrik kesintisi.Öğlen saat birden bu yana elektriklerimiz kesik,tam 7,5  saat oldu, buzdolabında covid aşılarımız var,lütfen bir çözüm üretin artık! \n",
            "@toroslardestek\n",
            " \n",
            "@enerjisadestek\n",
            " \n",
            "@TCEnerji\n",
            " \n",
            "@fatih_donmez\n",
            "Elektrik, su, internet kesik. Taş devri böyle birşey olmalı!?!? #yilolmus2021\n",
            "@fatihtosyalibb Sayın başkanım saatlerdir elektrik kesik ve bu sık sık oluyor lütfen bunun için de birşeyler yapın\n",
            "@IzmirValiligi @IzmirValiligi sayın valim ben Bornova’da ikamet ediyorum evimin kirasını ödeyemedim elektrik borcum nedeni ile kesik vakıfa müracaat ettim red geldi iş yok kime gittim ise yardımcı olmadı ben şimdi karanlıkta oturuyorum evinde elektrik yok çok soğuk ev\n",
            "@RTErdogan @RTErdogan bunlar hep yalan ve sahte sözler ben kiramı ödeyemedim elektrik borcum nedeni ile elektriğim kesik siz ne diyorsunuz yalancılar\n",
            "@BEDASDestek Dm ye ne gerek var istiklal mahallesi deryabeyi sokağın elektrikleri komple kesik saat sekizde geleceği söylenen elektrik şimdide de 23:15'te geleceği söylendi çalışanlarınız bu kadar mı kötü\n",
            "@RTErdogan @RTErdogan bunlar hep yalan ve sahte sözler ben kiramı ödeyemedim elektrik borcum nedeni ile elektriğim kesik siz ne diyorsunuz yalancılar\n",
            "@anadoluajansi Belli belli şu anda hergün olduğu gibi yine elektrik kesik👍\n",
            "Elektrik yarım saatten fazladır kesik, tekrar uyumak için güzel bi sebep🦑\n",
            "#MuhammadForAll Güneydoğu da bir 2 İlçe CHP İlçe binamızın elektrikleri borçtan kesik askıda elektrik yardım etmek isteyen olursa DM den atarım\n",
            "#Hilvan sayenizde karanlık. Tebrikler yeni taktikleri bu sanırım eskiden gün içinde parça parça kesiyorlardı şimdi gece 12 sabah 6. etrafımızda @DicleEpsas  çalışanı olmasa haberimizde olmayacak. #sanliurfa #karanlıkta #elektrik #kesik #hilvankaranlık\n",
            "8 saatten uzun süredir elektrik kesik Toroslar edaş halkı mağdur etmekte bölgede sürekli uzun kesintiler yapılmakta 19.30 itibariyle hâlâ elektrik gelmiş değil devlet büyüklerinin bu işe bir el atması lazım halk mağdur @tcbestepe @RTErdogan @toroslardestek\n",
            "RT @cumalirapsodi: Uzaya çıkacağımız şu günlerde hâla elektrik kesiliyor.Saatlerdir elektrik kesik size ne söylesek boş...Yazıklar olsun ma…\n",
            "RT @cumalirapsodi: Uzaya çıkacağımız şu günlerde hâla elektrik kesiliyor.Saatlerdir elektrik kesik size ne söylesek boş...Yazıklar olsun ma…\n",
            "@enerjisa @toroslardestek buyur şekilde göeüldüğü gibi direk üstümüze yıkılacak.Elektrik kesik nasıl elektrik olsunki böyle direkler olduğu sürece. https://t.co/NvXLqNBKFm\n",
            "Uzaya çıkacağımız şu günlerde hâla elektrik kesiliyor.Saatlerdir elektrik kesik size ne söylesek boş...Yazıklar olsun mağduriyetimize hergün yenisi ekleniyor yapamıyorsanız bırakın eeeyyy @toroslardestek @enerjisa defolun artık.\n",
            "Sular kesik. Şu suları kesecekseniz bir haber verin allahsızlar. Elektrik, doğalgaz kesintisi zerre umrumda olmaz da şu suları şak diye kesiyorlar ya acayip sinirleniyorum. Arıza varsa da bilgi ver. Önlemini alalım. 🤦🏻‍♀️\n",
            "ARIZALI KESİNTİ (LEFKOŞA İLÇESİ)\n",
            "09 Mart 2021 Salı günü elektrik şebekesinde yapılacak olan kırık direk tamiri nedeniyle saat 17:09’dan yaklaşık saat 21:30’a kadar; Akıncılar köyü'nün elektrik enerjisi kesik olacaktır. Çalışmanın seyrine göre elektrik enerjisi belirtilen saatten\n",
            "@UretimYerli Cok sükür atik bize kimse saldiramaz elektrik dogalgaz kesik evde bir faydasi var mibize bu haraketöi hava seyinin\n",
            "Ekran kartını bulduk ama Elektrik kesik iyi mi 🤣🤣 https://t.co/IrIEQ03Fsn\n",
            "Saatlerdir elektrik kesik silivride donarak öleceğim galiba.\n",
            "@dorininannesi Elektrik kesikse kitap kesik değilse film.. genel olarak hiç şaşmaz 😁\n",
            "RT @enversahbaz: Hangi birini sayalımki proje sahibimi müteahhit mi site yönetimi mi ödenmeyen faturalar 1 haftadır kesik olan doğalgaz bu…\n",
            "elektrik enerjisi kesik olacaktır. Çalışmanın seyrine göre elektrik enerjisi belirtilen saatten daha erken veya geç verilebileceğinden, şebekede her an elektrik enerjisi varmış gibi davranılması önemle duyurulur.\n",
            "ARIZALI KESİNTİ (LEFKE İLÇESİ)\n",
            "09 Mart 2021 Salı günü orta gerilim elektrik şebekesinde yapılacak kopuk hat tamiri nedeniyle saat 08:38’den yaklaşık saat 11:40’a kadar; ‘’Doğancı Cami Bölgesi’nin elektrik enerjisi kesik olacaktır.\n",
            "Elektrik kesik diye iki randevumu iptal etmem gerekti. Kadına mesaj çektim cevap vermedi arıyorum meşgul en sonunda ulaştım. Diyor ki beni sizin yanınıza getirecek kişiyle görüşmem lazım saat konusunu uygun mu diye, bende iki kişi mi geleceksiniz dedim yok eşim getirecek diyor🤦🏻‍♀️\n",
            "RT @enversahbaz: Hangi birini sayalımki proje sahibimi müteahhit mi site yönetimi mi ödenmeyen faturalar 1 haftadır kesik olan doğalgaz bu…\n",
            "Malatya'da 1 saattir elektrik kesik. Ondan yaklaşık yarım saat 40 dk evvel bi daha kesikti.\n",
            "Trafo arızası imiş ve 3 civari elektrik verilecekmiş. \n",
            "Üşümeye başladık valla. Bu nasıl iş kış vakti? Adam gibi yapmiyor musunuz bakımını bilmem nesini\n",
            "Hangi birini sayalımki proje sahibimi müteahhit mi site yönetimi mi ödenmeyen faturalar 1 haftadır kesik olan doğalgaz bu günde elektrik  432 daire mağdur neyseki ülkede adalet adıyla bir bakanlık mevcut #GümüşLife @adalet_bakanlik @igdaskurumsal @ibbBeyazmasa @RTErdogan\n",
            "@Sorani5347 🤣🤣🤣 diyorum ya elektrik kesik ondandur\n",
            "@BEDASDestek üç saat kesik elektrik mi olur tek yapmanız gereken enerji vermek evlere onu bile beceremiyosunuz taş devrinde miyiz\n",
            "Elektrik kesik ve şebeke zayıf bir işler dönüyor gibi sanki\n",
            "@thisistrakyali @VodafoneTR @VodafoneDestek @VodafoneMedya Normal ... yoğunluk var... yağmur var ..kar var...rüzgâr var... su var...elektrik var... moralimiz bozuk... sular kesik... vesaire vesaire... sonucta ne yok ? Internet yok...\n",
            "Yine merhaba kalitesiz hizmet veren elektrik dağıtıcısı. Yine elektriklerimiz kesik. Cevap falan yazmanıza gerek yok zaten tek vasfınız fatura tahsil etmek sizden bir şey beklemiyorum \n",
            "@ayedasdestek\n",
            "Okula geldim elektrik kesik, su da elektrik olmadığı için kesik ve ısınmak için güneşe çıkamıyoruz güneş yok bugün. \n",
            "Sınıfta Ali Rıza Bey gibi kaldım düşünüyorum aman ağzımızın tadı kaçacak. @DicleElektrikAS\n",
            "@BEDASDestek istiklal mahallesinde saat 19:00'dan beri elektrik kesik donduk donduk 23:15'te verilmesi gereken elektrik daha verilmedi\n",
            "Hatırladığım en küçük yaşımda ki an (4 ya da 5 yaş)\n",
            "Gece elektrik kesik ve  mumun eriyişi sıcak oda yağmur sesi kızarmış yumurta kokusu\n",
            "Eskiizmir kaza , range rover elektrik direğine carpıyor , sürücü olay yerinden kaçıyor. Mahallede elektrik komple kesik 17.30 https://t.co/S47TXh2ow8\n",
            "@BEDASDestek Ne zaman gelir peki 2 saatir kesik elektrik.\n",
            "@BEDASDestek @bpasabelediyesi Muratpaşa mahallesin Gülhan sokakta  yaklaşık yarım saattir elektrik plansız kesik.\n",
            "Elektrik kesikti şimdi geldi ya sabah yediden beri kesik net yoktu 😬\n",
            "Asırlarca bilinen dillere destan olan Çin işkencesine geçilmeli. Bu insanlar karanlık bir odada hafif elektrik verilerek su sesi eşliğinde delirtilmeli ve bunu topluma kesik kesik izletmeli. İnsan sürüneceğini görmeli,cezasını çekmeli ve suç işlememeli. #ibrahimzaraptutuklansın\n",
            "@Ahaber Sayin enerji bakanım bu gün cumartesi ayın altisi akşam saat onsekizden beri elektiriyimiz kesik şu anda saat ona geliyor başkente bu kadar elektrik kesintisi olmaması lazım yardımınizi bekliyoruz. Battalgazi mah.bin yermi yedinci sokak.altın dağ\n",
            "Adana seyhan da 4 saattir elektrik kesik @enerjisa @enerjisadestek \n",
            "1 saat sonra ADS'nin maçı var\n",
            "Günlerdir üzerimde fazla elektrik var, hiçbir yere dokunamıyorum!\n",
            "Elektiriklerin kesik olduğu yerle bana ulaşabilir, fazla elektiriğimi verip rahatlayayım. 😳\n",
            "Günler sonra eve geliyorum hooopppp elektrik kesik 😠\n",
            "@dieWeltLesen Elektrik hizmetindeki kronik kalitesizlik bunu söyleten örneklerden biri, ana sahibi etiler akmerkezin sahibi Akkok grup, bütün doğu marmara dağıtımını sedaş üstlenmiş, kalite anlayışları uzun süre kesik ise ekip göndermek, yoksa 10 defa göz kırpsada👍! \n",
            "Başını ağrıttım\n",
            "Gürültü çıkarmam gereken günde Ocak’ta filtre kahve ısıtıp içiyorum. Elektrik kesik kaç saattir 😒\n",
            "@hazaIcagatay @tuncsoyer @izmirbld @guzelbahcebld @HaytapOfficial Sen o yavru için yardım istiyorsun gelmiyor,ben aylardır eve ekmek goturemiyorum eşimden dostumdan borç isteyecek yüzüm kalamdi.haci ev sahibim evden kovacak elektrik kesik elde yok avucta yok bana da yardım a gelen yok arkadasim. Ne insan olarak ne hayvan olarak yardım yok\n",
            "@MeltemBabaoglu Bir zaman her iki kolu da bu adamın sağ kolu seviyesinde kesik olan birini gördüm. Fırına gelmişti adam gittikten sonra fırıncı dedi ki, hocam buna iyi bak, elektrik kablosu çalarken kollarını kaybetti bu durumda da bir adamı bıçakladı dedi. Bıçağı bu sanatkâr  gibi koluna takıp.\n",
            "@Murat_kizilkurt @mmirkelamtr Bana parkları yıkıp yapmaktan başka bir icraat göstersene yol desen yol yok Su elektrik desen haftanın iki günü kesik özellikle cumartesi pazar günleri Fırat kenarındaki yollardan geçmeye korkuyoz acaba kaya düşermi diye Allah etmesin biri vafat edecek anca o zaman katları kaldir\n"
          ],
          "name": "stdout"
        }
      ]
    },
    {
      "cell_type": "code",
      "metadata": {
        "id": "sCtz8ysCHMVs",
        "colab": {
          "base_uri": "https://localhost:8080/"
        },
        "outputId": "52815751-1ba9-4f33-8436-cf8f4a9b6932"
      },
      "source": [
        "OrderedDict(api.home_timeline()[1]._json)"
      ],
      "execution_count": 20,
      "outputs": [
        {
          "output_type": "execute_result",
          "data": {
            "text/plain": [
              "OrderedDict([('created_at', 'Sat Mar 13 20:10:04 +0000 2021'),\n",
              "             ('id', 1370829534690443268),\n",
              "             ('id_str', '1370829534690443268'),\n",
              "             ('text', 'Geceye bir dize bırak...'),\n",
              "             ('truncated', False),\n",
              "             ('entities',\n",
              "              {'hashtags': [],\n",
              "               'symbols': [],\n",
              "               'urls': [],\n",
              "               'user_mentions': []}),\n",
              "             ('source',\n",
              "              '<a href=\"https://www.hootsuite.com\" rel=\"nofollow\">Hootsuite Inc.</a>'),\n",
              "             ('in_reply_to_status_id', None),\n",
              "             ('in_reply_to_status_id_str', None),\n",
              "             ('in_reply_to_user_id', None),\n",
              "             ('in_reply_to_user_id_str', None),\n",
              "             ('in_reply_to_screen_name', None),\n",
              "             ('user',\n",
              "              {'contributors_enabled': False,\n",
              "               'created_at': 'Sun Apr 21 16:51:36 +0000 2013',\n",
              "               'default_profile': False,\n",
              "               'default_profile_image': False,\n",
              "               'description': 'Ahmed Arif hayran sayfası.',\n",
              "               'entities': {'description': {'urls': []},\n",
              "                'url': {'urls': [{'display_url': 'Instagram.com/CokOkunanKitap…',\n",
              "                   'expanded_url': 'http://Instagram.com/CokOkunanKitaplar',\n",
              "                   'indices': [0, 23],\n",
              "                   'url': 'https://t.co/s1E0eStusD'}]}},\n",
              "               'favourites_count': 63572,\n",
              "               'follow_request_sent': False,\n",
              "               'followers_count': 234287,\n",
              "               'following': True,\n",
              "               'friends_count': 139,\n",
              "               'geo_enabled': True,\n",
              "               'has_extended_profile': False,\n",
              "               'id': 1370037517,\n",
              "               'id_str': '1370037517',\n",
              "               'is_translation_enabled': False,\n",
              "               'is_translator': False,\n",
              "               'lang': None,\n",
              "               'listed_count': 109,\n",
              "               'location': '',\n",
              "               'name': 'Ahmed Arif',\n",
              "               'notifications': False,\n",
              "               'profile_background_color': 'C0DEED',\n",
              "               'profile_background_image_url': 'http://abs.twimg.com/images/themes/theme1/bg.png',\n",
              "               'profile_background_image_url_https': 'https://abs.twimg.com/images/themes/theme1/bg.png',\n",
              "               'profile_background_tile': True,\n",
              "               'profile_banner_url': 'https://pbs.twimg.com/profile_banners/1370037517/1534776087',\n",
              "               'profile_image_url': 'http://pbs.twimg.com/profile_images/571972542229032960/tAduuI-z_normal.jpeg',\n",
              "               'profile_image_url_https': 'https://pbs.twimg.com/profile_images/571972542229032960/tAduuI-z_normal.jpeg',\n",
              "               'profile_link_color': '0084B4',\n",
              "               'profile_sidebar_border_color': '000000',\n",
              "               'profile_sidebar_fill_color': 'DDEEF6',\n",
              "               'profile_text_color': '333333',\n",
              "               'profile_use_background_image': True,\n",
              "               'protected': False,\n",
              "               'screen_name': 'AhmedAriif',\n",
              "               'statuses_count': 20360,\n",
              "               'time_zone': None,\n",
              "               'translator_type': 'regular',\n",
              "               'url': 'https://t.co/s1E0eStusD',\n",
              "               'utc_offset': None,\n",
              "               'verified': False}),\n",
              "             ('geo', None),\n",
              "             ('coordinates', None),\n",
              "             ('place', None),\n",
              "             ('contributors', None),\n",
              "             ('is_quote_status', False),\n",
              "             ('retweet_count', 0),\n",
              "             ('favorite_count', 5),\n",
              "             ('favorited', False),\n",
              "             ('retweeted', False),\n",
              "             ('lang', 'tr')])"
            ]
          },
          "metadata": {
            "tags": []
          },
          "execution_count": 20
        }
      ]
    },
    {
      "cell_type": "code",
      "metadata": {
        "id": "coZ7jV1QGoGS",
        "colab": {
          "base_uri": "https://localhost:8080/"
        },
        "outputId": "ef32f6e8-88eb-4d5d-8dff-3b68cae2e7f7"
      },
      "source": [
        "for status in tweepy.Cursor(api.search, q=('Dedaş elektrik -filter:retweets' or 'Dedaş Kesinti -filter:retweets'), location = \"Diyarbakır\").items(10):\n",
        "  print(status.text, status.created_at, status._json[\"entities\"][\"hashtags\"][0][\"text\"]   if len(status._json[\"entities\"][\"hashtags\"])> 0 else None ,status.user.screen_name, status.user.location, '\\t', sep = '\\n',  )"
      ],
      "execution_count": 21,
      "outputs": [
        {
          "output_type": "stream",
          "text": [
            "@BBahadirErdem Kaçak elektrik kullanmaya alışmışlar, kullandığının bedeli gelmiştir yoksa DEDAŞ kafadan sallama ele… https://t.co/trrouc8Ftq\n",
            "2021-03-13 20:05:44\n",
            "None\n",
            "Abrek71\n",
            "Ankara, Türkiye\n",
            "\t\n",
            "Mardin Kızıltepe'de bir çiftçi 130 dönüm arazisi için 320.000 TL DEDAŞa elektrik parası borcu olduğunu, ödemesinin… https://t.co/NsgIfNu8GQ\n",
            "2021-03-13 19:51:06\n",
            "None\n",
            "BBahadirErdem\n",
            "istanbul\n",
            "\t\n",
            "Evren Sanayi Sitesinde iki gündür DEDAŞ'ın uyguladığı  elektrik kesintisi yüzünden esnaf mağdur.\n",
            "Ne yazık ki DEDAŞ,… https://t.co/vMbxk5Ff3Y\n",
            "2021-03-13 19:37:18\n",
            "None\n",
            "alagoz491\n",
            "Şanlıurfa\n",
            "\t\n",
            "@sevdam_urfa Şanlıurfa da TEDAŞ diye bir kurum yok. Orada Dicle Elektrik Dağıtım A.Ş  (DEDAŞ) var. Özelleşeli 10 yi… https://t.co/a6n3JqBejV\n",
            "2021-03-13 12:50:43\n",
            "None\n",
            "GorumGuler\n",
            "\n",
            "\t\n",
            "@meral_aksener Kaçak elektrik diye bişey yok  \n",
            "elektrik kaçağı oyunu Var   \n",
            "Cebe para atan DEDAŞ- BEDAŞ   AŞ MAŞ… https://t.co/FAHfQmXGqq\n",
            "2021-03-13 07:33:17\n",
            "None\n",
            "Ismalsbs\n",
            "İstanbul, Türkiye\n",
            "\t\n",
            "16 saattir elektrik yok Allah seni kahretsin #DEDAS !!!!!!\n",
            "2021-03-12 21:17:01\n",
            "DEDAS\n",
            "mozelane_\n",
            "Çıkmazdayım\n",
            "\t\n",
            "AKP li vekillerin herşey için yanımıza gelin elektrik için gelmeyin dediği DEDAŞ şirketi hakkında.\n",
            "\n",
            "Güneydoğu'daki… https://t.co/mcUDmSYXs1\n",
            "2021-03-12 20:46:27\n",
            "None\n",
            "ResitSonmez\n",
            "Şanlıurfa Merkez, Şanlıurfa\n",
            "\t\n",
            "@meral_aksener DEDAŞ çiftçinin yıllık gelirinin 5/6 katı kadar elektrik tüketim bedeli faturaları kesiyor,bütün tar… https://t.co/rTrt8e4VYa\n",
            "2021-03-12 18:36:37\n",
            "None\n",
            "berin_l\n",
            "\n",
            "\t\n",
            "Ersoylu mahallesinde öğleden beri elektrik kesintisi var. Dedas hizmette sınır tanımıyor.\n",
            "2021-03-12 16:53:24\n",
            "None\n",
            "KorkmazMihdi\n",
            "Mardin -Kiziltepe \n",
            "\t\n",
            "@ankahabera DEDAŞ (Dicle Elektrik AŞ) olmalı doğrusu... Elektrik mafyasıdır kendileri ve bölge insanına bayaa zulmederler.\n",
            "2021-03-12 16:17:39\n",
            "None\n",
            "orcundemirrr\n",
            "Tekirdağ\n",
            "\t\n"
          ],
          "name": "stdout"
        }
      ]
    },
    {
      "cell_type": "code",
      "metadata": {
        "id": "R3Byoq4x_Jvl"
      },
      "source": [
        "tweetid = []\n",
        "tweets = []\n",
        "ttime = []\n",
        "hashtags = []\n",
        "nick = []\n",
        "location = []\n",
        "\n",
        "\n",
        "for status in tweepy.Cursor(api.search, q=('Dedaş elektrik' or 'Dedaş Kesinti'), tweet_mode=\"extended\").items(5000):\n",
        "  tweetid.append(status.id_str)\n",
        "  tweets.append(status.full_text.lower() )\n",
        "  ttime.append(status.created_at)\n",
        "  hashtags.append (status._json[\"entities\"][\"hashtags\"][0][\"text\"]   if len(status._json[\"entities\"][\"hashtags\"])> 0 else None)\n",
        "  nick.append(status.user.screen_name)\n",
        "  location.append(status.user.location)\n",
        "  \n",
        "Tweetdfread = pd.DataFrame ({\"tweetid\" : tweetid,\n",
        "                         'tweets' : tweets,\n",
        "                         'ttime' : ttime,\n",
        "                         'hashtags' : hashtags,\n",
        "                         'nick' : nick,\n",
        "                         'location' : location\n",
        "    \n",
        "})\n"
      ],
      "execution_count": 22,
      "outputs": []
    },
    {
      "cell_type": "code",
      "metadata": {
        "id": "Pyb66J2bS_eO",
        "colab": {
          "base_uri": "https://localhost:8080/",
          "height": 204
        },
        "outputId": "8a294138-8e01-4f07-eef5-117520a4fc69"
      },
      "source": [
        "Tweetdfread.head()"
      ],
      "execution_count": 23,
      "outputs": [
        {
          "output_type": "execute_result",
          "data": {
            "text/html": [
              "<div>\n",
              "<style scoped>\n",
              "    .dataframe tbody tr th:only-of-type {\n",
              "        vertical-align: middle;\n",
              "    }\n",
              "\n",
              "    .dataframe tbody tr th {\n",
              "        vertical-align: top;\n",
              "    }\n",
              "\n",
              "    .dataframe thead th {\n",
              "        text-align: right;\n",
              "    }\n",
              "</style>\n",
              "<table border=\"1\" class=\"dataframe\">\n",
              "  <thead>\n",
              "    <tr style=\"text-align: right;\">\n",
              "      <th></th>\n",
              "      <th>tweetid</th>\n",
              "      <th>tweets</th>\n",
              "      <th>ttime</th>\n",
              "      <th>hashtags</th>\n",
              "      <th>nick</th>\n",
              "      <th>location</th>\n",
              "    </tr>\n",
              "  </thead>\n",
              "  <tbody>\n",
              "    <tr>\n",
              "      <th>0</th>\n",
              "      <td>1370828442112040961</td>\n",
              "      <td>@bbahadirerdem kaçak elektrik kullanmaya alışm...</td>\n",
              "      <td>2021-03-13 20:05:44</td>\n",
              "      <td>None</td>\n",
              "      <td>Abrek71</td>\n",
              "      <td>Ankara, Türkiye</td>\n",
              "    </tr>\n",
              "    <tr>\n",
              "      <th>1</th>\n",
              "      <td>1370827400267829248</td>\n",
              "      <td>rt @bbahadirerdem: mardin kızıltepe'de bir çif...</td>\n",
              "      <td>2021-03-13 20:01:35</td>\n",
              "      <td>None</td>\n",
              "      <td>AsistanDestek</td>\n",
              "      <td></td>\n",
              "    </tr>\n",
              "    <tr>\n",
              "      <th>2</th>\n",
              "      <td>1370826764369465352</td>\n",
              "      <td>rt @bbahadirerdem: mardin kızıltepe'de bir çif...</td>\n",
              "      <td>2021-03-13 19:59:04</td>\n",
              "      <td>None</td>\n",
              "      <td>HsnGltkn1960</td>\n",
              "      <td>Sivas, Türkiye</td>\n",
              "    </tr>\n",
              "    <tr>\n",
              "      <th>3</th>\n",
              "      <td>1370826014985760774</td>\n",
              "      <td>rt @bbahadirerdem: mardin kızıltepe'de bir çif...</td>\n",
              "      <td>2021-03-13 19:56:05</td>\n",
              "      <td>None</td>\n",
              "      <td>ecem154313</td>\n",
              "      <td>İstanbul, Türkiye</td>\n",
              "    </tr>\n",
              "    <tr>\n",
              "      <th>4</th>\n",
              "      <td>1370825916910342146</td>\n",
              "      <td>rt @bbahadirerdem: mardin kızıltepe'de bir çif...</td>\n",
              "      <td>2021-03-13 19:55:41</td>\n",
              "      <td>None</td>\n",
              "      <td>YT17Serkan</td>\n",
              "      <td></td>\n",
              "    </tr>\n",
              "  </tbody>\n",
              "</table>\n",
              "</div>"
            ],
            "text/plain": [
              "               tweetid  ...           location\n",
              "0  1370828442112040961  ...    Ankara, Türkiye\n",
              "1  1370827400267829248  ...                   \n",
              "2  1370826764369465352  ...     Sivas, Türkiye\n",
              "3  1370826014985760774  ...  İstanbul, Türkiye\n",
              "4  1370825916910342146  ...                   \n",
              "\n",
              "[5 rows x 6 columns]"
            ]
          },
          "metadata": {
            "tags": []
          },
          "execution_count": 23
        }
      ]
    },
    {
      "cell_type": "code",
      "metadata": {
        "id": "NtdJ7ghbaAKV",
        "colab": {
          "base_uri": "https://localhost:8080/",
          "height": 289
        },
        "outputId": "48bc0213-62ec-4e0e-d77f-52ccd7d605b4"
      },
      "source": [
        "Tweetdfread.describe()"
      ],
      "execution_count": 24,
      "outputs": [
        {
          "output_type": "stream",
          "text": [
            "/usr/local/lib/python3.7/dist-packages/ipykernel_launcher.py:1: FutureWarning: Treating datetime data as categorical rather than numeric in `.describe` is deprecated and will be removed in a future version of pandas. Specify `datetime_is_numeric=True` to silence this warning and adopt the future behavior now.\n",
            "  \"\"\"Entry point for launching an IPython kernel.\n"
          ],
          "name": "stderr"
        },
        {
          "output_type": "execute_result",
          "data": {
            "text/html": [
              "<div>\n",
              "<style scoped>\n",
              "    .dataframe tbody tr th:only-of-type {\n",
              "        vertical-align: middle;\n",
              "    }\n",
              "\n",
              "    .dataframe tbody tr th {\n",
              "        vertical-align: top;\n",
              "    }\n",
              "\n",
              "    .dataframe thead th {\n",
              "        text-align: right;\n",
              "    }\n",
              "</style>\n",
              "<table border=\"1\" class=\"dataframe\">\n",
              "  <thead>\n",
              "    <tr style=\"text-align: right;\">\n",
              "      <th></th>\n",
              "      <th>tweetid</th>\n",
              "      <th>tweets</th>\n",
              "      <th>ttime</th>\n",
              "      <th>hashtags</th>\n",
              "      <th>nick</th>\n",
              "      <th>location</th>\n",
              "    </tr>\n",
              "  </thead>\n",
              "  <tbody>\n",
              "    <tr>\n",
              "      <th>count</th>\n",
              "      <td>59</td>\n",
              "      <td>59</td>\n",
              "      <td>59</td>\n",
              "      <td>18</td>\n",
              "      <td>59</td>\n",
              "      <td>59</td>\n",
              "    </tr>\n",
              "    <tr>\n",
              "      <th>unique</th>\n",
              "      <td>59</td>\n",
              "      <td>40</td>\n",
              "      <td>59</td>\n",
              "      <td>8</td>\n",
              "      <td>56</td>\n",
              "      <td>21</td>\n",
              "    </tr>\n",
              "    <tr>\n",
              "      <th>top</th>\n",
              "      <td>1370708979786121217</td>\n",
              "      <td>rt @resitsonmez: akp li vekillerin herşey için...</td>\n",
              "      <td>2021-03-07 22:11:16</td>\n",
              "      <td>Şanlıurfa</td>\n",
              "      <td>mozelane_</td>\n",
              "      <td></td>\n",
              "    </tr>\n",
              "    <tr>\n",
              "      <th>freq</th>\n",
              "      <td>1</td>\n",
              "      <td>8</td>\n",
              "      <td>1</td>\n",
              "      <td>4</td>\n",
              "      <td>2</td>\n",
              "      <td>26</td>\n",
              "    </tr>\n",
              "    <tr>\n",
              "      <th>first</th>\n",
              "      <td>NaN</td>\n",
              "      <td>NaN</td>\n",
              "      <td>2021-03-06 12:59:54</td>\n",
              "      <td>NaN</td>\n",
              "      <td>NaN</td>\n",
              "      <td>NaN</td>\n",
              "    </tr>\n",
              "    <tr>\n",
              "      <th>last</th>\n",
              "      <td>NaN</td>\n",
              "      <td>NaN</td>\n",
              "      <td>2021-03-13 20:05:44</td>\n",
              "      <td>NaN</td>\n",
              "      <td>NaN</td>\n",
              "      <td>NaN</td>\n",
              "    </tr>\n",
              "  </tbody>\n",
              "</table>\n",
              "</div>"
            ],
            "text/plain": [
              "                    tweetid  ... location\n",
              "count                    59  ...       59\n",
              "unique                   59  ...       21\n",
              "top     1370708979786121217  ...         \n",
              "freq                      1  ...       26\n",
              "first                   NaN  ...      NaN\n",
              "last                    NaN  ...      NaN\n",
              "\n",
              "[6 rows x 6 columns]"
            ]
          },
          "metadata": {
            "tags": []
          },
          "execution_count": 24
        }
      ]
    },
    {
      "cell_type": "code",
      "metadata": {
        "id": "irSBiAPihKTR"
      },
      "source": [
        "Tweetdfread.to_csv( 'KBTweet1.csv',sep=';', index = False)"
      ],
      "execution_count": 25,
      "outputs": []
    },
    {
      "cell_type": "code",
      "metadata": {
        "id": "gcdUYT-XBaAj"
      },
      "source": [
        "class SimpleListener(tweepy.StreamListener):\n",
        "    \n",
        "    def on_status(self, status):\n",
        "        #code to run each time you receive some data (direct message, delete, profile update, status,...)\n",
        "        print(status.text)\n",
        "    \n",
        "    def on_timeout(self):\n",
        "        print(sys.stderr, 'Timeout...')\n",
        "        return True # Don't kill the stream\n"
      ],
      "execution_count": 26,
      "outputs": []
    },
    {
      "cell_type": "code",
      "metadata": {
        "id": "m8ac8Gp0HyN-"
      },
      "source": [
        "myStreamListener = SimpleListener()\n"
      ],
      "execution_count": 27,
      "outputs": []
    },
    {
      "cell_type": "code",
      "metadata": {
        "id": "-rmBQWBJIFnj",
        "colab": {
          "base_uri": "https://localhost:8080/",
          "height": 340
        },
        "outputId": "b806481e-caeb-4ba1-c8b5-431c50badedc"
      },
      "source": [
        "#Canlı veri çekme\n",
        "myStream = tweepy.Stream(auth = api.auth, listener=myStreamListener)\n",
        "\n",
        "myStream.filter(track=['kesinti'])"
      ],
      "execution_count": 29,
      "outputs": [
        {
          "output_type": "error",
          "ename": "KeyboardInterrupt",
          "evalue": "ignored",
          "traceback": [
            "\u001b[0;31m---------------------------------------------------------------------------\u001b[0m",
            "\u001b[0;31mKeyboardInterrupt\u001b[0m                         Traceback (most recent call last)",
            "\u001b[0;32m<ipython-input-29-7f7cf2373a11>\u001b[0m in \u001b[0;36m<module>\u001b[0;34m()\u001b[0m\n\u001b[1;32m      2\u001b[0m \u001b[0mmyStream\u001b[0m \u001b[0;34m=\u001b[0m \u001b[0mtweepy\u001b[0m\u001b[0;34m.\u001b[0m\u001b[0mStream\u001b[0m\u001b[0;34m(\u001b[0m\u001b[0mauth\u001b[0m \u001b[0;34m=\u001b[0m \u001b[0mapi\u001b[0m\u001b[0;34m.\u001b[0m\u001b[0mauth\u001b[0m\u001b[0;34m,\u001b[0m \u001b[0mlistener\u001b[0m\u001b[0;34m=\u001b[0m\u001b[0mmyStreamListener\u001b[0m\u001b[0;34m)\u001b[0m\u001b[0;34m\u001b[0m\u001b[0;34m\u001b[0m\u001b[0m\n\u001b[1;32m      3\u001b[0m \u001b[0;34m\u001b[0m\u001b[0m\n\u001b[0;32m----> 4\u001b[0;31m \u001b[0mmyStream\u001b[0m\u001b[0;34m.\u001b[0m\u001b[0mfilter\u001b[0m\u001b[0;34m(\u001b[0m\u001b[0mtrack\u001b[0m\u001b[0;34m=\u001b[0m\u001b[0;34m[\u001b[0m\u001b[0;34m'kesinti'\u001b[0m\u001b[0;34m]\u001b[0m\u001b[0;34m)\u001b[0m\u001b[0;34m\u001b[0m\u001b[0;34m\u001b[0m\u001b[0m\n\u001b[0m",
            "\u001b[0;32m/usr/local/lib/python3.7/dist-packages/tweepy/streaming.py\u001b[0m in \u001b[0;36mfilter\u001b[0;34m(self, follow, track, is_async, locations, stall_warnings, languages, encoding, filter_level)\u001b[0m\n\u001b[1;32m    472\u001b[0m             \u001b[0mself\u001b[0m\u001b[0;34m.\u001b[0m\u001b[0mbody\u001b[0m\u001b[0;34m[\u001b[0m\u001b[0;34m'filter_level'\u001b[0m\u001b[0;34m]\u001b[0m \u001b[0;34m=\u001b[0m \u001b[0mfilter_level\u001b[0m\u001b[0;34m.\u001b[0m\u001b[0mencode\u001b[0m\u001b[0;34m(\u001b[0m\u001b[0mencoding\u001b[0m\u001b[0;34m)\u001b[0m\u001b[0;34m\u001b[0m\u001b[0;34m\u001b[0m\u001b[0m\n\u001b[1;32m    473\u001b[0m         \u001b[0mself\u001b[0m\u001b[0;34m.\u001b[0m\u001b[0msession\u001b[0m\u001b[0;34m.\u001b[0m\u001b[0mparams\u001b[0m \u001b[0;34m=\u001b[0m \u001b[0;34m{\u001b[0m\u001b[0;34m'delimited'\u001b[0m\u001b[0;34m:\u001b[0m \u001b[0;34m'length'\u001b[0m\u001b[0;34m}\u001b[0m\u001b[0;34m\u001b[0m\u001b[0;34m\u001b[0m\u001b[0m\n\u001b[0;32m--> 474\u001b[0;31m         \u001b[0mself\u001b[0m\u001b[0;34m.\u001b[0m\u001b[0m_start\u001b[0m\u001b[0;34m(\u001b[0m\u001b[0mis_async\u001b[0m\u001b[0;34m)\u001b[0m\u001b[0;34m\u001b[0m\u001b[0;34m\u001b[0m\u001b[0m\n\u001b[0m\u001b[1;32m    475\u001b[0m \u001b[0;34m\u001b[0m\u001b[0m\n\u001b[1;32m    476\u001b[0m     def sitestream(self, follow, stall_warnings=False,\n",
            "\u001b[0;32m/usr/local/lib/python3.7/dist-packages/tweepy/streaming.py\u001b[0m in \u001b[0;36m_start\u001b[0;34m(self, is_async)\u001b[0m\n\u001b[1;32m    387\u001b[0m             \u001b[0mself\u001b[0m\u001b[0;34m.\u001b[0m\u001b[0m_thread\u001b[0m\u001b[0;34m.\u001b[0m\u001b[0mstart\u001b[0m\u001b[0;34m(\u001b[0m\u001b[0;34m)\u001b[0m\u001b[0;34m\u001b[0m\u001b[0;34m\u001b[0m\u001b[0m\n\u001b[1;32m    388\u001b[0m         \u001b[0;32melse\u001b[0m\u001b[0;34m:\u001b[0m\u001b[0;34m\u001b[0m\u001b[0;34m\u001b[0m\u001b[0m\n\u001b[0;32m--> 389\u001b[0;31m             \u001b[0mself\u001b[0m\u001b[0;34m.\u001b[0m\u001b[0m_run\u001b[0m\u001b[0;34m(\u001b[0m\u001b[0;34m)\u001b[0m\u001b[0;34m\u001b[0m\u001b[0;34m\u001b[0m\u001b[0m\n\u001b[0m\u001b[1;32m    390\u001b[0m \u001b[0;34m\u001b[0m\u001b[0m\n\u001b[1;32m    391\u001b[0m     \u001b[0;32mdef\u001b[0m \u001b[0mon_closed\u001b[0m\u001b[0;34m(\u001b[0m\u001b[0mself\u001b[0m\u001b[0;34m,\u001b[0m \u001b[0mresp\u001b[0m\u001b[0;34m)\u001b[0m\u001b[0;34m:\u001b[0m\u001b[0;34m\u001b[0m\u001b[0;34m\u001b[0m\u001b[0m\n",
            "\u001b[0;32m/usr/local/lib/python3.7/dist-packages/tweepy/streaming.py\u001b[0m in \u001b[0;36m_run\u001b[0;34m(self)\u001b[0m\n\u001b[1;32m    287\u001b[0m                     \u001b[0mself\u001b[0m\u001b[0;34m.\u001b[0m\u001b[0msnooze_time\u001b[0m \u001b[0;34m=\u001b[0m \u001b[0mself\u001b[0m\u001b[0;34m.\u001b[0m\u001b[0msnooze_time_step\u001b[0m\u001b[0;34m\u001b[0m\u001b[0;34m\u001b[0m\u001b[0m\n\u001b[1;32m    288\u001b[0m                     \u001b[0mself\u001b[0m\u001b[0;34m.\u001b[0m\u001b[0mlistener\u001b[0m\u001b[0;34m.\u001b[0m\u001b[0mon_connect\u001b[0m\u001b[0;34m(\u001b[0m\u001b[0;34m)\u001b[0m\u001b[0;34m\u001b[0m\u001b[0;34m\u001b[0m\u001b[0m\n\u001b[0;32m--> 289\u001b[0;31m                     \u001b[0mself\u001b[0m\u001b[0;34m.\u001b[0m\u001b[0m_read_loop\u001b[0m\u001b[0;34m(\u001b[0m\u001b[0mresp\u001b[0m\u001b[0;34m)\u001b[0m\u001b[0;34m\u001b[0m\u001b[0;34m\u001b[0m\u001b[0m\n\u001b[0m\u001b[1;32m    290\u001b[0m             \u001b[0;32mexcept\u001b[0m \u001b[0;34m(\u001b[0m\u001b[0mTimeout\u001b[0m\u001b[0;34m,\u001b[0m \u001b[0mssl\u001b[0m\u001b[0;34m.\u001b[0m\u001b[0mSSLError\u001b[0m\u001b[0;34m)\u001b[0m \u001b[0;32mas\u001b[0m \u001b[0mexc\u001b[0m\u001b[0;34m:\u001b[0m\u001b[0;34m\u001b[0m\u001b[0;34m\u001b[0m\u001b[0m\n\u001b[1;32m    291\u001b[0m                 \u001b[0;31m# This is still necessary, as a SSLError can actually be\u001b[0m\u001b[0;34m\u001b[0m\u001b[0;34m\u001b[0m\u001b[0;34m\u001b[0m\u001b[0m\n",
            "\u001b[0;32m/usr/local/lib/python3.7/dist-packages/tweepy/streaming.py\u001b[0m in \u001b[0;36m_read_loop\u001b[0;34m(self, resp)\u001b[0m\n\u001b[1;32m    337\u001b[0m             \u001b[0mlength\u001b[0m \u001b[0;34m=\u001b[0m \u001b[0;36m0\u001b[0m\u001b[0;34m\u001b[0m\u001b[0;34m\u001b[0m\u001b[0m\n\u001b[1;32m    338\u001b[0m             \u001b[0;32mwhile\u001b[0m \u001b[0;32mnot\u001b[0m \u001b[0mresp\u001b[0m\u001b[0;34m.\u001b[0m\u001b[0mraw\u001b[0m\u001b[0;34m.\u001b[0m\u001b[0mclosed\u001b[0m\u001b[0;34m:\u001b[0m\u001b[0;34m\u001b[0m\u001b[0;34m\u001b[0m\u001b[0m\n\u001b[0;32m--> 339\u001b[0;31m                 \u001b[0mline\u001b[0m \u001b[0;34m=\u001b[0m \u001b[0mbuf\u001b[0m\u001b[0;34m.\u001b[0m\u001b[0mread_line\u001b[0m\u001b[0;34m(\u001b[0m\u001b[0;34m)\u001b[0m\u001b[0;34m\u001b[0m\u001b[0;34m\u001b[0m\u001b[0m\n\u001b[0m\u001b[1;32m    340\u001b[0m                 \u001b[0mstripped_line\u001b[0m \u001b[0;34m=\u001b[0m \u001b[0mline\u001b[0m\u001b[0;34m.\u001b[0m\u001b[0mstrip\u001b[0m\u001b[0;34m(\u001b[0m\u001b[0;34m)\u001b[0m \u001b[0;32mif\u001b[0m \u001b[0mline\u001b[0m \u001b[0;32melse\u001b[0m \u001b[0mline\u001b[0m \u001b[0;31m# line is sometimes None so we need to check here\u001b[0m\u001b[0;34m\u001b[0m\u001b[0;34m\u001b[0m\u001b[0m\n\u001b[1;32m    341\u001b[0m                 \u001b[0;32mif\u001b[0m \u001b[0;32mnot\u001b[0m \u001b[0mstripped_line\u001b[0m\u001b[0;34m:\u001b[0m\u001b[0;34m\u001b[0m\u001b[0;34m\u001b[0m\u001b[0m\n",
            "\u001b[0;32m/usr/local/lib/python3.7/dist-packages/tweepy/streaming.py\u001b[0m in \u001b[0;36mread_line\u001b[0;34m(self, sep)\u001b[0m\n\u001b[1;32m    198\u001b[0m             \u001b[0;32melse\u001b[0m\u001b[0;34m:\u001b[0m\u001b[0;34m\u001b[0m\u001b[0;34m\u001b[0m\u001b[0m\n\u001b[1;32m    199\u001b[0m                 \u001b[0mstart\u001b[0m \u001b[0;34m=\u001b[0m \u001b[0mlen\u001b[0m\u001b[0;34m(\u001b[0m\u001b[0mself\u001b[0m\u001b[0;34m.\u001b[0m\u001b[0m_buffer\u001b[0m\u001b[0;34m)\u001b[0m\u001b[0;34m\u001b[0m\u001b[0;34m\u001b[0m\u001b[0m\n\u001b[0;32m--> 200\u001b[0;31m             \u001b[0mself\u001b[0m\u001b[0;34m.\u001b[0m\u001b[0m_buffer\u001b[0m \u001b[0;34m+=\u001b[0m \u001b[0mself\u001b[0m\u001b[0;34m.\u001b[0m\u001b[0m_stream\u001b[0m\u001b[0;34m.\u001b[0m\u001b[0mread\u001b[0m\u001b[0;34m(\u001b[0m\u001b[0mself\u001b[0m\u001b[0;34m.\u001b[0m\u001b[0m_chunk_size\u001b[0m\u001b[0;34m)\u001b[0m\u001b[0;34m\u001b[0m\u001b[0;34m\u001b[0m\u001b[0m\n\u001b[0m\u001b[1;32m    201\u001b[0m         \u001b[0;32mreturn\u001b[0m \u001b[0msix\u001b[0m\u001b[0;34m.\u001b[0m\u001b[0mb\u001b[0m\u001b[0;34m(\u001b[0m\u001b[0;34m''\u001b[0m\u001b[0;34m)\u001b[0m\u001b[0;34m\u001b[0m\u001b[0;34m\u001b[0m\u001b[0m\n\u001b[1;32m    202\u001b[0m \u001b[0;34m\u001b[0m\u001b[0m\n",
            "\u001b[0;32m/usr/local/lib/python3.7/dist-packages/urllib3/response.py\u001b[0m in \u001b[0;36mread\u001b[0;34m(self, amt, decode_content, cache_content)\u001b[0m\n\u001b[1;32m    442\u001b[0m             \u001b[0;32melse\u001b[0m\u001b[0;34m:\u001b[0m\u001b[0;34m\u001b[0m\u001b[0;34m\u001b[0m\u001b[0m\n\u001b[1;32m    443\u001b[0m                 \u001b[0mcache_content\u001b[0m \u001b[0;34m=\u001b[0m \u001b[0;32mFalse\u001b[0m\u001b[0;34m\u001b[0m\u001b[0;34m\u001b[0m\u001b[0m\n\u001b[0;32m--> 444\u001b[0;31m                 \u001b[0mdata\u001b[0m \u001b[0;34m=\u001b[0m \u001b[0mself\u001b[0m\u001b[0;34m.\u001b[0m\u001b[0m_fp\u001b[0m\u001b[0;34m.\u001b[0m\u001b[0mread\u001b[0m\u001b[0;34m(\u001b[0m\u001b[0mamt\u001b[0m\u001b[0;34m)\u001b[0m\u001b[0;34m\u001b[0m\u001b[0;34m\u001b[0m\u001b[0m\n\u001b[0m\u001b[1;32m    445\u001b[0m                 \u001b[0;32mif\u001b[0m \u001b[0mamt\u001b[0m \u001b[0;34m!=\u001b[0m \u001b[0;36m0\u001b[0m \u001b[0;32mand\u001b[0m \u001b[0;32mnot\u001b[0m \u001b[0mdata\u001b[0m\u001b[0;34m:\u001b[0m  \u001b[0;31m# Platform-specific: Buggy versions of Python.\u001b[0m\u001b[0;34m\u001b[0m\u001b[0;34m\u001b[0m\u001b[0m\n\u001b[1;32m    446\u001b[0m                     \u001b[0;31m# Close the connection when no data is returned\u001b[0m\u001b[0;34m\u001b[0m\u001b[0;34m\u001b[0m\u001b[0;34m\u001b[0m\u001b[0m\n",
            "\u001b[0;32m/usr/lib/python3.7/http/client.py\u001b[0m in \u001b[0;36mread\u001b[0;34m(self, amt)\u001b[0m\n\u001b[1;32m    459\u001b[0m             \u001b[0;31m# Amount is given, implement using readinto\u001b[0m\u001b[0;34m\u001b[0m\u001b[0;34m\u001b[0m\u001b[0;34m\u001b[0m\u001b[0m\n\u001b[1;32m    460\u001b[0m             \u001b[0mb\u001b[0m \u001b[0;34m=\u001b[0m \u001b[0mbytearray\u001b[0m\u001b[0;34m(\u001b[0m\u001b[0mamt\u001b[0m\u001b[0;34m)\u001b[0m\u001b[0;34m\u001b[0m\u001b[0;34m\u001b[0m\u001b[0m\n\u001b[0;32m--> 461\u001b[0;31m             \u001b[0mn\u001b[0m \u001b[0;34m=\u001b[0m \u001b[0mself\u001b[0m\u001b[0;34m.\u001b[0m\u001b[0mreadinto\u001b[0m\u001b[0;34m(\u001b[0m\u001b[0mb\u001b[0m\u001b[0;34m)\u001b[0m\u001b[0;34m\u001b[0m\u001b[0;34m\u001b[0m\u001b[0m\n\u001b[0m\u001b[1;32m    462\u001b[0m             \u001b[0;32mreturn\u001b[0m \u001b[0mmemoryview\u001b[0m\u001b[0;34m(\u001b[0m\u001b[0mb\u001b[0m\u001b[0;34m)\u001b[0m\u001b[0;34m[\u001b[0m\u001b[0;34m:\u001b[0m\u001b[0mn\u001b[0m\u001b[0;34m]\u001b[0m\u001b[0;34m.\u001b[0m\u001b[0mtobytes\u001b[0m\u001b[0;34m(\u001b[0m\u001b[0;34m)\u001b[0m\u001b[0;34m\u001b[0m\u001b[0;34m\u001b[0m\u001b[0m\n\u001b[1;32m    463\u001b[0m         \u001b[0;32melse\u001b[0m\u001b[0;34m:\u001b[0m\u001b[0;34m\u001b[0m\u001b[0;34m\u001b[0m\u001b[0m\n",
            "\u001b[0;32m/usr/lib/python3.7/http/client.py\u001b[0m in \u001b[0;36mreadinto\u001b[0;34m(self, b)\u001b[0m\n\u001b[1;32m    493\u001b[0m \u001b[0;34m\u001b[0m\u001b[0m\n\u001b[1;32m    494\u001b[0m         \u001b[0;32mif\u001b[0m \u001b[0mself\u001b[0m\u001b[0;34m.\u001b[0m\u001b[0mchunked\u001b[0m\u001b[0;34m:\u001b[0m\u001b[0;34m\u001b[0m\u001b[0;34m\u001b[0m\u001b[0m\n\u001b[0;32m--> 495\u001b[0;31m             \u001b[0;32mreturn\u001b[0m \u001b[0mself\u001b[0m\u001b[0;34m.\u001b[0m\u001b[0m_readinto_chunked\u001b[0m\u001b[0;34m(\u001b[0m\u001b[0mb\u001b[0m\u001b[0;34m)\u001b[0m\u001b[0;34m\u001b[0m\u001b[0;34m\u001b[0m\u001b[0m\n\u001b[0m\u001b[1;32m    496\u001b[0m \u001b[0;34m\u001b[0m\u001b[0m\n\u001b[1;32m    497\u001b[0m         \u001b[0;32mif\u001b[0m \u001b[0mself\u001b[0m\u001b[0;34m.\u001b[0m\u001b[0mlength\u001b[0m \u001b[0;32mis\u001b[0m \u001b[0;32mnot\u001b[0m \u001b[0;32mNone\u001b[0m\u001b[0;34m:\u001b[0m\u001b[0;34m\u001b[0m\u001b[0;34m\u001b[0m\u001b[0m\n",
            "\u001b[0;32m/usr/lib/python3.7/http/client.py\u001b[0m in \u001b[0;36m_readinto_chunked\u001b[0;34m(self, b)\u001b[0m\n\u001b[1;32m    588\u001b[0m         \u001b[0;32mtry\u001b[0m\u001b[0;34m:\u001b[0m\u001b[0;34m\u001b[0m\u001b[0;34m\u001b[0m\u001b[0m\n\u001b[1;32m    589\u001b[0m             \u001b[0;32mwhile\u001b[0m \u001b[0;32mTrue\u001b[0m\u001b[0;34m:\u001b[0m\u001b[0;34m\u001b[0m\u001b[0;34m\u001b[0m\u001b[0m\n\u001b[0;32m--> 590\u001b[0;31m                 \u001b[0mchunk_left\u001b[0m \u001b[0;34m=\u001b[0m \u001b[0mself\u001b[0m\u001b[0;34m.\u001b[0m\u001b[0m_get_chunk_left\u001b[0m\u001b[0;34m(\u001b[0m\u001b[0;34m)\u001b[0m\u001b[0;34m\u001b[0m\u001b[0;34m\u001b[0m\u001b[0m\n\u001b[0m\u001b[1;32m    591\u001b[0m                 \u001b[0;32mif\u001b[0m \u001b[0mchunk_left\u001b[0m \u001b[0;32mis\u001b[0m \u001b[0;32mNone\u001b[0m\u001b[0;34m:\u001b[0m\u001b[0;34m\u001b[0m\u001b[0;34m\u001b[0m\u001b[0m\n\u001b[1;32m    592\u001b[0m                     \u001b[0;32mreturn\u001b[0m \u001b[0mtotal_bytes\u001b[0m\u001b[0;34m\u001b[0m\u001b[0;34m\u001b[0m\u001b[0m\n",
            "\u001b[0;32m/usr/lib/python3.7/http/client.py\u001b[0m in \u001b[0;36m_get_chunk_left\u001b[0;34m(self)\u001b[0m\n\u001b[1;32m    556\u001b[0m                 \u001b[0mself\u001b[0m\u001b[0;34m.\u001b[0m\u001b[0m_safe_read\u001b[0m\u001b[0;34m(\u001b[0m\u001b[0;36m2\u001b[0m\u001b[0;34m)\u001b[0m  \u001b[0;31m# toss the CRLF at the end of the chunk\u001b[0m\u001b[0;34m\u001b[0m\u001b[0;34m\u001b[0m\u001b[0m\n\u001b[1;32m    557\u001b[0m             \u001b[0;32mtry\u001b[0m\u001b[0;34m:\u001b[0m\u001b[0;34m\u001b[0m\u001b[0;34m\u001b[0m\u001b[0m\n\u001b[0;32m--> 558\u001b[0;31m                 \u001b[0mchunk_left\u001b[0m \u001b[0;34m=\u001b[0m \u001b[0mself\u001b[0m\u001b[0;34m.\u001b[0m\u001b[0m_read_next_chunk_size\u001b[0m\u001b[0;34m(\u001b[0m\u001b[0;34m)\u001b[0m\u001b[0;34m\u001b[0m\u001b[0;34m\u001b[0m\u001b[0m\n\u001b[0m\u001b[1;32m    559\u001b[0m             \u001b[0;32mexcept\u001b[0m \u001b[0mValueError\u001b[0m\u001b[0;34m:\u001b[0m\u001b[0;34m\u001b[0m\u001b[0;34m\u001b[0m\u001b[0m\n\u001b[1;32m    560\u001b[0m                 \u001b[0;32mraise\u001b[0m \u001b[0mIncompleteRead\u001b[0m\u001b[0;34m(\u001b[0m\u001b[0;34mb''\u001b[0m\u001b[0;34m)\u001b[0m\u001b[0;34m\u001b[0m\u001b[0;34m\u001b[0m\u001b[0m\n",
            "\u001b[0;32m/usr/lib/python3.7/http/client.py\u001b[0m in \u001b[0;36m_read_next_chunk_size\u001b[0;34m(self)\u001b[0m\n\u001b[1;32m    516\u001b[0m     \u001b[0;32mdef\u001b[0m \u001b[0m_read_next_chunk_size\u001b[0m\u001b[0;34m(\u001b[0m\u001b[0mself\u001b[0m\u001b[0;34m)\u001b[0m\u001b[0;34m:\u001b[0m\u001b[0;34m\u001b[0m\u001b[0;34m\u001b[0m\u001b[0m\n\u001b[1;32m    517\u001b[0m         \u001b[0;31m# Read the next chunk size from the file\u001b[0m\u001b[0;34m\u001b[0m\u001b[0;34m\u001b[0m\u001b[0;34m\u001b[0m\u001b[0m\n\u001b[0;32m--> 518\u001b[0;31m         \u001b[0mline\u001b[0m \u001b[0;34m=\u001b[0m \u001b[0mself\u001b[0m\u001b[0;34m.\u001b[0m\u001b[0mfp\u001b[0m\u001b[0;34m.\u001b[0m\u001b[0mreadline\u001b[0m\u001b[0;34m(\u001b[0m\u001b[0m_MAXLINE\u001b[0m \u001b[0;34m+\u001b[0m \u001b[0;36m1\u001b[0m\u001b[0;34m)\u001b[0m\u001b[0;34m\u001b[0m\u001b[0;34m\u001b[0m\u001b[0m\n\u001b[0m\u001b[1;32m    519\u001b[0m         \u001b[0;32mif\u001b[0m \u001b[0mlen\u001b[0m\u001b[0;34m(\u001b[0m\u001b[0mline\u001b[0m\u001b[0;34m)\u001b[0m \u001b[0;34m>\u001b[0m \u001b[0m_MAXLINE\u001b[0m\u001b[0;34m:\u001b[0m\u001b[0;34m\u001b[0m\u001b[0;34m\u001b[0m\u001b[0m\n\u001b[1;32m    520\u001b[0m             \u001b[0;32mraise\u001b[0m \u001b[0mLineTooLong\u001b[0m\u001b[0;34m(\u001b[0m\u001b[0;34m\"chunk size\"\u001b[0m\u001b[0;34m)\u001b[0m\u001b[0;34m\u001b[0m\u001b[0;34m\u001b[0m\u001b[0m\n",
            "\u001b[0;32m/usr/lib/python3.7/socket.py\u001b[0m in \u001b[0;36mreadinto\u001b[0;34m(self, b)\u001b[0m\n\u001b[1;32m    587\u001b[0m         \u001b[0;32mwhile\u001b[0m \u001b[0;32mTrue\u001b[0m\u001b[0;34m:\u001b[0m\u001b[0;34m\u001b[0m\u001b[0;34m\u001b[0m\u001b[0m\n\u001b[1;32m    588\u001b[0m             \u001b[0;32mtry\u001b[0m\u001b[0;34m:\u001b[0m\u001b[0;34m\u001b[0m\u001b[0;34m\u001b[0m\u001b[0m\n\u001b[0;32m--> 589\u001b[0;31m                 \u001b[0;32mreturn\u001b[0m \u001b[0mself\u001b[0m\u001b[0;34m.\u001b[0m\u001b[0m_sock\u001b[0m\u001b[0;34m.\u001b[0m\u001b[0mrecv_into\u001b[0m\u001b[0;34m(\u001b[0m\u001b[0mb\u001b[0m\u001b[0;34m)\u001b[0m\u001b[0;34m\u001b[0m\u001b[0;34m\u001b[0m\u001b[0m\n\u001b[0m\u001b[1;32m    590\u001b[0m             \u001b[0;32mexcept\u001b[0m \u001b[0mtimeout\u001b[0m\u001b[0;34m:\u001b[0m\u001b[0;34m\u001b[0m\u001b[0;34m\u001b[0m\u001b[0m\n\u001b[1;32m    591\u001b[0m                 \u001b[0mself\u001b[0m\u001b[0;34m.\u001b[0m\u001b[0m_timeout_occurred\u001b[0m \u001b[0;34m=\u001b[0m \u001b[0;32mTrue\u001b[0m\u001b[0;34m\u001b[0m\u001b[0;34m\u001b[0m\u001b[0m\n",
            "\u001b[0;32m/usr/lib/python3.7/ssl.py\u001b[0m in \u001b[0;36mrecv_into\u001b[0;34m(self, buffer, nbytes, flags)\u001b[0m\n\u001b[1;32m   1069\u001b[0m                   \u001b[0;34m\"non-zero flags not allowed in calls to recv_into() on %s\"\u001b[0m \u001b[0;34m%\u001b[0m\u001b[0;34m\u001b[0m\u001b[0;34m\u001b[0m\u001b[0m\n\u001b[1;32m   1070\u001b[0m                   self.__class__)\n\u001b[0;32m-> 1071\u001b[0;31m             \u001b[0;32mreturn\u001b[0m \u001b[0mself\u001b[0m\u001b[0;34m.\u001b[0m\u001b[0mread\u001b[0m\u001b[0;34m(\u001b[0m\u001b[0mnbytes\u001b[0m\u001b[0;34m,\u001b[0m \u001b[0mbuffer\u001b[0m\u001b[0;34m)\u001b[0m\u001b[0;34m\u001b[0m\u001b[0;34m\u001b[0m\u001b[0m\n\u001b[0m\u001b[1;32m   1072\u001b[0m         \u001b[0;32melse\u001b[0m\u001b[0;34m:\u001b[0m\u001b[0;34m\u001b[0m\u001b[0;34m\u001b[0m\u001b[0m\n\u001b[1;32m   1073\u001b[0m             \u001b[0;32mreturn\u001b[0m \u001b[0msuper\u001b[0m\u001b[0;34m(\u001b[0m\u001b[0;34m)\u001b[0m\u001b[0;34m.\u001b[0m\u001b[0mrecv_into\u001b[0m\u001b[0;34m(\u001b[0m\u001b[0mbuffer\u001b[0m\u001b[0;34m,\u001b[0m \u001b[0mnbytes\u001b[0m\u001b[0;34m,\u001b[0m \u001b[0mflags\u001b[0m\u001b[0;34m)\u001b[0m\u001b[0;34m\u001b[0m\u001b[0;34m\u001b[0m\u001b[0m\n",
            "\u001b[0;32m/usr/lib/python3.7/ssl.py\u001b[0m in \u001b[0;36mread\u001b[0;34m(self, len, buffer)\u001b[0m\n\u001b[1;32m    927\u001b[0m         \u001b[0;32mtry\u001b[0m\u001b[0;34m:\u001b[0m\u001b[0;34m\u001b[0m\u001b[0;34m\u001b[0m\u001b[0m\n\u001b[1;32m    928\u001b[0m             \u001b[0;32mif\u001b[0m \u001b[0mbuffer\u001b[0m \u001b[0;32mis\u001b[0m \u001b[0;32mnot\u001b[0m \u001b[0;32mNone\u001b[0m\u001b[0;34m:\u001b[0m\u001b[0;34m\u001b[0m\u001b[0;34m\u001b[0m\u001b[0m\n\u001b[0;32m--> 929\u001b[0;31m                 \u001b[0;32mreturn\u001b[0m \u001b[0mself\u001b[0m\u001b[0;34m.\u001b[0m\u001b[0m_sslobj\u001b[0m\u001b[0;34m.\u001b[0m\u001b[0mread\u001b[0m\u001b[0;34m(\u001b[0m\u001b[0mlen\u001b[0m\u001b[0;34m,\u001b[0m \u001b[0mbuffer\u001b[0m\u001b[0;34m)\u001b[0m\u001b[0;34m\u001b[0m\u001b[0;34m\u001b[0m\u001b[0m\n\u001b[0m\u001b[1;32m    930\u001b[0m             \u001b[0;32melse\u001b[0m\u001b[0;34m:\u001b[0m\u001b[0;34m\u001b[0m\u001b[0;34m\u001b[0m\u001b[0m\n\u001b[1;32m    931\u001b[0m                 \u001b[0;32mreturn\u001b[0m \u001b[0mself\u001b[0m\u001b[0;34m.\u001b[0m\u001b[0m_sslobj\u001b[0m\u001b[0;34m.\u001b[0m\u001b[0mread\u001b[0m\u001b[0;34m(\u001b[0m\u001b[0mlen\u001b[0m\u001b[0;34m)\u001b[0m\u001b[0;34m\u001b[0m\u001b[0;34m\u001b[0m\u001b[0m\n",
            "\u001b[0;31mKeyboardInterrupt\u001b[0m: "
          ]
        }
      ]
    }
  ]
}