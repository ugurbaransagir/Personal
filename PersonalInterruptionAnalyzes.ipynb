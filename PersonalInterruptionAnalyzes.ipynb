{
  "nbformat": 4,
  "nbformat_minor": 0,
  "metadata": {
    "colab": {
      "name": "PersonalInterruptionAnalyze.ipynb",
      "provenance": [],
      "collapsed_sections": []
    },
    "kernelspec": {
      "name": "python3",
      "display_name": "Python 3"
    }
  },
  "cells": [
    {
      "cell_type": "code",
      "metadata": {
        "id": "oSI6pTpMdcci"
      },
      "source": [
        "\n",
        "\n",
        "from google.colab import drive\n",
        "drive.mount('/gdrive')\n",
        "%cd /gdrive"
      ],
      "execution_count": null,
      "outputs": []
    },
    {
      "cell_type": "code",
      "metadata": {
        "id": "WoxTjvuVcjnT"
      },
      "source": [
        "\n",
        "# os for file management*\n",
        "\n",
        "import os\n",
        "\n",
        "os.chdir('My Drive')\n",
        "os.chdir('Colab Notebooks')"
      ],
      "execution_count": 3,
      "outputs": []
    },
    {
      "cell_type": "code",
      "metadata": {
        "id": "gdun8UWuxSEy"
      },
      "source": [
        " \n",
        "\n",
        "!pip install tweepy\n"
      ],
      "execution_count": null,
      "outputs": []
    },
    {
      "cell_type": "code",
      "metadata": {
        "id": "aTeDTs0v60e7"
      },
      "source": [
        "# Libs\n",
        "\n",
        "\n",
        "import tweepy\n",
        "from tweepy import OAuthHandler\n",
        "from tweepy import Stream\n",
        "from tweepy.streaming import StreamListener\n",
        "\n",
        "import pandas as pd\n",
        "\n",
        "import json\n",
        "from collections import OrderedDict"
      ],
      "execution_count": 5,
      "outputs": []
    },
    {
      "cell_type": "code",
      "metadata": {
        "id": "jEpm4-YG40sZ"
      },
      "source": [
        "# Twitter APIs\n",
        "\n",
        "\n",
        "\n",
        "consumer_key = 'd8RxF1zqe1vqZGPTFNOX865B2'\n",
        "consumer_secret = 'B8vjEkOLyirvoBf4zp2cBPAKoSvjGxRbzK0RQgB65OGpmkyeZL'\n",
        "access_token = '895405449620672513-NAhckCrY8XzAtjtuyUv5CGjYN9pG29r'\n",
        "access_secret = 'Hf6HSPpP3Mbh6O5xLqwcTMrawSxgQ5lxf9lngisrKsdze'\n",
        " \n",
        "auth = OAuthHandler(consumer_key, consumer_secret)\n",
        "auth.set_access_token(access_token, access_secret)\n",
        "\n",
        "api = tweepy.API(auth, wait_on_rate_limit=True)"
      ],
      "execution_count": 6,
      "outputs": []
    },
    {
      "cell_type": "code",
      "metadata": {
        "id": "BUwV9CkUFFVF"
      },
      "source": [
        "user = api.me()\n",
        "\n",
        "print(user)"
      ],
      "execution_count": null,
      "outputs": []
    },
    {
      "cell_type": "code",
      "metadata": {
        "id": "4frU9GuFvP6k"
      },
      "source": [
        "print('Name: ' + user.name)\n",
        "print('Description: ' + user.description)\n",
        "print('Friends: ' + str(user.friends_count))\n",
        "print('Nick: @' + str(user.screen_name) + \"  <---- Beni Ekleyebilirsiniz\")"
      ],
      "execution_count": null,
      "outputs": []
    },
    {
      "cell_type": "code",
      "metadata": {
        "id": "k9AjuZlPCEG5"
      },
      "source": [
        "api.home_timeline()"
      ],
      "execution_count": null,
      "outputs": []
    },
    {
      "cell_type": "code",
      "metadata": {
        "id": "p4BJ_mYsoRjR"
      },
      "source": [
        "OrderedDict(api.home_timeline()[1]._json)"
      ],
      "execution_count": null,
      "outputs": []
    },
    {
      "cell_type": "code",
      "metadata": {
        "id": "QwMOviy36x2z"
      },
      "source": [
        "for status in api.home_timeline():\n",
        "   print(status.text)"
      ],
      "execution_count": null,
      "outputs": []
    },
    {
      "cell_type": "code",
      "metadata": {
        "id": "0PzfKnOg0CCr"
      },
      "source": [
        "tweets = []\n",
        "\n",
        "for status in api.home_timeline():\n",
        "   tweets.append(status.text)\n",
        "  "
      ],
      "execution_count": 12,
      "outputs": []
    },
    {
      "cell_type": "code",
      "metadata": {
        "id": "Es0rqxHJ1XL6"
      },
      "source": [
        "len(tweets)"
      ],
      "execution_count": null,
      "outputs": []
    },
    {
      "cell_type": "code",
      "metadata": {
        "id": "qTrE6de-44wY"
      },
      "source": [
        "tweets = []\n",
        "\n",
        "for status in tweepy.Cursor(api.home_timeline).items(50):\n",
        "    tweets.append(status.text)\n",
        "    \n",
        "len(tweets)"
      ],
      "execution_count": null,
      "outputs": []
    },
    {
      "cell_type": "code",
      "metadata": {
        "id": "q675IlQp6jj4"
      },
      "source": [
        "for status in tweepy.Cursor(api.home_timeline).items(10):\n",
        "    print(status.text)"
      ],
      "execution_count": null,
      "outputs": []
    },
    {
      "cell_type": "code",
      "metadata": {
        "id": "aOgWfoVtGuUI"
      },
      "source": [
        "for status in tweepy.Cursor(api.search, q=('DEDAŞ')).items(10):\n",
        "  print(status.text)"
      ],
      "execution_count": null,
      "outputs": []
    },
    {
      "cell_type": "code",
      "metadata": {
        "id": "BY-JhZkesG4C"
      },
      "source": [
        "# retweet'leri ve yabancı tweet'leri kaldıralım\r\n",
        "for status in tweepy.Cursor(api.search, q=('DEDAŞ-filter:retweets'), lang=\"tr\").items(10):\r\n",
        "  print(status.text)"
      ],
      "execution_count": null,
      "outputs": []
    },
    {
      "cell_type": "code",
      "metadata": {
        "id": "jp-OZ--dGucg"
      },
      "source": [
        "for status in tweepy.Cursor(api.search, q=[ 'elektrik' ,  \"DEDAŞ \"]).items(10):\n",
        "  print(status.text)"
      ],
      "execution_count": null,
      "outputs": []
    },
    {
      "cell_type": "code",
      "metadata": {
        "id": "oFeBg6AunsGm"
      },
      "source": [
        "for status in tweepy.Cursor(api.search, q=[ \"elektrik kesik -filter:retweets\"], tweet_mode = \"extended\").items(1000):\n",
        "  print(status.full_text)"
      ],
      "execution_count": null,
      "outputs": []
    },
    {
      "cell_type": "code",
      "metadata": {
        "id": "sCtz8ysCHMVs"
      },
      "source": [
        "OrderedDict(api.home_timeline()[1]._json)"
      ],
      "execution_count": null,
      "outputs": []
    },
    {
      "cell_type": "code",
      "metadata": {
        "id": "coZ7jV1QGoGS"
      },
      "source": [
        "for status in tweepy.Cursor(api.search, q=('Dedaş elektrik -filter:retweets' or 'Dedaş Kesinti -filter:retweets'), location = \"Diyarbakır\").items(10):\n",
        "  print(status.text, status.created_at, status._json[\"entities\"][\"hashtags\"][0][\"text\"]   if len(status._json[\"entities\"][\"hashtags\"])> 0 else None ,status.user.screen_name, status.user.location, '\\t', sep = '\\n',  )"
      ],
      "execution_count": null,
      "outputs": []
    },
    {
      "cell_type": "code",
      "metadata": {
        "id": "R3Byoq4x_Jvl"
      },
      "source": [
        "tweetid = []\n",
        "tweets = []\n",
        "ttime = []\n",
        "hashtags = []\n",
        "nick = []\n",
        "location = []\n",
        "\n",
        "\n",
        "for status in tweepy.Cursor(api.search, q=('Dedaş elektrik' or 'Dedaş Kesinti'), tweet_mode=\"extended\").items(5000):\n",
        "  tweetid.append(status.id_str)\n",
        "  tweets.append(status.full_text.lower() )\n",
        "  ttime.append(status.created_at)\n",
        "  hashtags.append (status._json[\"entities\"][\"hashtags\"][0][\"text\"]   if len(status._json[\"entities\"][\"hashtags\"])> 0 else None)\n",
        "  nick.append(status.user.screen_name)\n",
        "  location.append(status.user.location)\n",
        "  \n",
        "Tweetdfread = pd.DataFrame ({\"tweetid\" : tweetid,\n",
        "                         'tweets' : tweets,\n",
        "                         'ttime' : ttime,\n",
        "                         'hashtags' : hashtags,\n",
        "                         'nick' : nick,\n",
        "                         'location' : location\n",
        "    \n",
        "})\n"
      ],
      "execution_count": 22,
      "outputs": []
    },
    {
      "cell_type": "code",
      "metadata": {
        "id": "Pyb66J2bS_eO"
      },
      "source": [
        "Tweetdfread.head()"
      ],
      "execution_count": null,
      "outputs": []
    },
    {
      "cell_type": "code",
      "metadata": {
        "id": "NtdJ7ghbaAKV"
      },
      "source": [
        "Tweetdfread.describe()"
      ],
      "execution_count": null,
      "outputs": []
    },
    {
      "cell_type": "code",
      "metadata": {
        "id": "irSBiAPihKTR"
      },
      "source": [
        "Tweetdfread.to_csv( 'KBTweet1.csv',sep=';', index = False)"
      ],
      "execution_count": 25,
      "outputs": []
    },
    {
      "cell_type": "code",
      "metadata": {
        "id": "gcdUYT-XBaAj"
      },
      "source": [
        "class SimpleListener(tweepy.StreamListener):\n",
        "    \n",
        "    def on_status(self, status):\n",
        "        #code to run each time you receive some data (direct message, delete, profile update, status,...)\n",
        "        print(status.text)\n",
        "    \n",
        "    def on_timeout(self):\n",
        "        print(sys.stderr, 'Timeout...')\n",
        "        return True # Don't kill the stream\n"
      ],
      "execution_count": 26,
      "outputs": []
    },
    {
      "cell_type": "code",
      "metadata": {
        "id": "m8ac8Gp0HyN-"
      },
      "source": [
        "myStreamListener = SimpleListener()\n"
      ],
      "execution_count": 27,
      "outputs": []
    },
    {
      "cell_type": "code",
      "metadata": {
        "id": "-rmBQWBJIFnj"
      },
      "source": [
        "#Canlı veri çekme\n",
        "myStream = tweepy.Stream(auth = api.auth, listener=myStreamListener)\n",
        "\n",
        "myStream.filter(track=['kesinti'])"
      ],
      "execution_count": null,
      "outputs": []
    }
  ]
}